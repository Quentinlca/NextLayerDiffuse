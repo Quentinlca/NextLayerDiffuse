{
  "cells": [
    {
      "cell_type": "markdown",
      "metadata": {
        "id": "14yzvc2k9xZQ"
      },
      "source": [
        "# Importing the utils"
      ]
    },
    {
      "cell_type": "code",
      "execution_count": null,
      "metadata": {
        "colab": {
          "base_uri": "https://localhost:8080/"
        },
        "collapsed": true,
        "id": "kNCFvlU89R_t",
        "outputId": "d7855c49-ae19-4e46-d794-94326c2083b4"
      },
      "outputs": [],
      "source": [
        "!pip install --upgrade diffusers accelerate transformers ipywidgets peft\n"
      ]
    },
    {
      "cell_type": "code",
      "execution_count": 2,
      "metadata": {
        "id": "4gD_m_ho9iDQ"
      },
      "outputs": [],
      "source": [
        "from IPython.display import display\n",
        "from diffusers import DiffusionPipeline, DPMSolverMultistepScheduler\n",
        "import torch\n",
        "import numpy as np\n",
        "import ipywidgets as widgets"
      ]
    },
    {
      "cell_type": "code",
      "execution_count": 3,
      "metadata": {
        "colab": {
          "base_uri": "https://localhost:8080/",
          "height": 17,
          "referenced_widgets": [
            "02da190a22f446b6a63f748d95aa10e0",
            "4472a97a7ba149ddaf0152af4e46aa31",
            "406e6ec82f834605b38836003341b4e5",
            "1da0949fa9664d9390e110944454e8a0",
            "bc750780f20f417b911a0cb86163afdb",
            "c3c57c51f7cb4beba5cda33a18328f3e",
            "787f8545ae0147aba50144c8c569f127",
            "608475a678d441eabb880a5c3a602b7d",
            "96247afd011044bd82dee8c61b2f33e8",
            "24eb7510079441b399dc5913d52cc04e",
            "5ed475c32cf04faca76f2c3ddcc9c182"
          ]
        },
        "collapsed": true,
        "id": "p2vLR4zo9lOo",
        "outputId": "d5a42811-a9ae-4d74-a902-d8669a3351d1"
      },
      "outputs": [
        {
          "data": {
            "application/vnd.jupyter.widget-view+json": {
              "model_id": "a644ddd4c0444c1a8a4153e3cfe9e64f",
              "version_major": 2,
              "version_minor": 0
            },
            "text/plain": [
              "Loading pipeline components...:   0%|          | 0/7 [00:00<?, ?it/s]"
            ]
          },
          "metadata": {},
          "output_type": "display_data"
        }
      ],
      "source": [
        "pipe_id = \"stabilityai/stable-diffusion-xl-base-1.0\"\n",
        "pipe = DiffusionPipeline.from_pretrained(pipe_id, torch_dtype=torch.float16).to(\"cuda\")\n",
        "# More efficient Scheduler (need just 20 inference steps)\n",
        "pipe.scheduler = DPMSolverMultistepScheduler.from_config(pipe.scheduler.config)"
      ]
    },
    {
      "cell_type": "code",
      "execution_count": null,
      "metadata": {
        "colab": {
          "base_uri": "https://localhost:8080/",
          "height": 432
        },
        "id": "ghHAMKHd9r_E",
        "outputId": "be2535ec-0978-4f20-9771-ed2c048de90b"
      },
      "outputs": [
        {
          "name": "stderr",
          "output_type": "stream",
          "text": [
            "/users/eleves-b/2022/quentin.leca/.local/lib/python3.11/site-packages/peft/tuners/tuners_utils.py:167: UserWarning: Already found a `peft_config` attribute in the model. This will lead to having multiple adapters in the model. Make sure to know what you are doing!\n",
            "  warnings.warn(\n"
          ]
        }
      ],
      "source": [
        "loras = [{'src': 'Fictiverse/Voxel_XL_Lora', 'weight_name': 'VoxelXL_v1.safetensors','name': 'voxel', 'trigger': 'voxel style'},\n",
        "         {'src': 'CiroN2022/toy-face', 'weight_name': 'toy_face_sdxl.safetensors','name': 'toy', 'trigger': 'toy_face'}\n",
        "         ]\n",
        "# Load LoRA weights\n",
        "for lora in loras:\n",
        "    pipe.load_lora_weights(lora['src'], weight_name=lora['weight_name'], adapter_name=lora['name'])\n"
      ]
    },
    {
      "cell_type": "markdown",
      "metadata": {
        "id": "FtmKxR69B40V"
      },
      "source": [
        "# Empty the Torch Cache"
      ]
    },
    {
      "cell_type": "code",
      "execution_count": 5,
      "metadata": {
        "id": "jZhO4XwtB7wZ"
      },
      "outputs": [],
      "source": [
        "torch.cuda.empty_cache()"
      ]
    },
    {
      "cell_type": "markdown",
      "metadata": {
        "id": "EYgB6ahe91ZL"
      },
      "source": [
        "# Creating the inteface"
      ]
    },
    {
      "cell_type": "markdown",
      "metadata": {
        "id": "-WcC6j-U-N6J"
      },
      "source": [
        "## Creating the widgets"
      ]
    },
    {
      "cell_type": "code",
      "execution_count": null,
      "metadata": {
        "id": "x9KjuYdO94XS"
      },
      "outputs": [],
      "source": [
        "# Align the end of the description of the widgets\n",
        "align_kw = dict(\n",
        "    _css = (('.widget-label', 'min-width', '20ex'),),\n",
        "    margin = '0px 0px 5px 12px',\n",
        "    style = {'description_width': 'auto'},\n",
        "    layout = widgets.Layout(width='auto', height='auto', flex_flow='row', align_items='center', display='flex')\n",
        ")\n",
        "# Create widgets\n",
        "prompt_widget = widgets.Text(\n",
        "    value='A female pirate smoking a pipe',\n",
        "    placeholder='Enter your prompt here',\n",
        "    description='Prompt:',\n",
        "    disabled=False,\n",
        "    **align_kw\n",
        ")\n",
        "\n",
        "seed_widget = widgets.IntText(\n",
        "    value=0,\n",
        "    min=-1,\n",
        "    step=1,\n",
        "    description='Seed (-1 is random):',\n",
        "    disabled=False,\n",
        "    **align_kw\n",
        ")\n",
        "\n",
        "inference_steps_widget = widgets.IntText(\n",
        "    value=20,\n",
        "    \n",
        "    min=1,\n",
        "    step=1,\n",
        "    description='Inference Steps (for this Scheduler 20 is recommanded):',\n",
        "    disabled=False,\n",
        "    **align_kw\n",
        ")\n",
        "\n",
        "lora_strength_widgets = []\n",
        "for lora in loras:\n",
        "    lora_strength_widgets.append(\n",
        "        widgets.FloatSlider(\n",
        "            value=1.0,\n",
        "            min=0.0,\n",
        "            max=1.0,\n",
        "            step=0.01,\n",
        "            description=f\"{lora['name']} Strength:\",\n",
        "            disabled=False,\n",
        "            **align_kw\n",
        "        )\n",
        "    )\n",
        "    lora_strength_widgets[-1].layout.width = '400px'\n",
        "    \n",
        "\n",
        "generate_button = widgets.Button(\n",
        "    description='Generate Image',\n",
        "    disabled=False,\n",
        "    button_style='',  # 'success', 'info', 'warning', 'danger' or ''\n",
        "    tooltip='Click to generate image'\n",
        ")\n",
        "\n",
        "\n",
        "output_image = widgets.Output()"
      ]
    },
    {
      "cell_type": "markdown",
      "metadata": {
        "id": "TaAVtIgr-P7Z"
      },
      "source": [
        "## Utils Functions"
      ]
    },
    {
      "cell_type": "code",
      "execution_count": 111,
      "metadata": {
        "id": "HF-KtNVm-EhL"
      },
      "outputs": [],
      "source": [
        "def generate_image(b):\n",
        "  with output_image:\n",
        "    output_image.clear_output()\n",
        "    seed = seed_widget.value\n",
        "    if seed == -1:\n",
        "      seed = np.random.randint(0, 2**32 - 1)\n",
        "    generator = torch.Generator(device=\"cuda\").manual_seed(seed)\n",
        "    \n",
        "    prompt = prompt_widget.value\n",
        "    adapter_weights=[lora_widget.value for lora_widget in lora_strength_widgets]\n",
        "    adapter_name = [lora['name'] for lora in loras]\n",
        "    pipe.set_adapters(adapter_name, adapter_weights=adapter_weights)\n",
        "    triggers = [lora['trigger'] for lora in loras]\n",
        "    \n",
        "    for trigger in triggers:\n",
        "        if trigger not in prompt:\n",
        "            prompt = f\"{prompt} {trigger}\"\n",
        "            \n",
        "    print(f\"Prompt used: {prompt}\")\n",
        "    image = pipe(prompt,\n",
        "                  num_inference_steps=inference_steps_widget.value,\n",
        "                  cross_attention_kwargs={\"scale\": 0.85},\n",
        "                  generator=generator\n",
        "                  ).images[0]\n",
        "    display(image)"
      ]
    },
    {
      "cell_type": "markdown",
      "metadata": {
        "id": "cOQ_lmVs-Un-"
      },
      "source": [
        "## Displaying the widgets"
      ]
    },
    {
      "cell_type": "code",
      "execution_count": 112,
      "metadata": {
        "colab": {
          "base_uri": "https://localhost:8080/",
          "height": 17,
          "referenced_widgets": [
            "329fb8b9ea3540d990be7703ac403663",
            "33d820bee72a449cbeb628f31d3aa3de",
            "a5f39f2ce9444e1ab7e27dda725c6b5e"
          ]
        },
        "id": "WM8Lgm9L-MS_",
        "outputId": "91f1ddcd-ef34-48b8-9f74-b28139c16c1a"
      },
      "outputs": [
        {
          "data": {
            "application/vnd.jupyter.widget-view+json": {
              "model_id": "f34923bd7716412ea82f0daaf0f6b6a9",
              "version_major": 2,
              "version_minor": 0
            },
            "text/plain": [
              "Text(value='A female pirate on a boat', description='Prompt:', layout=Layout(align_items='center', display='fl…"
            ]
          },
          "metadata": {},
          "output_type": "display_data"
        },
        {
          "data": {
            "application/vnd.jupyter.widget-view+json": {
              "model_id": "1007c1a109324338bbe8f0ad08d7ebbb",
              "version_major": 2,
              "version_minor": 0
            },
            "text/plain": [
              "IntText(value=0, description='Seed (-1 is random):', layout=Layout(align_items='center', display='flex', flex_…"
            ]
          },
          "metadata": {},
          "output_type": "display_data"
        },
        {
          "data": {
            "application/vnd.jupyter.widget-view+json": {
              "model_id": "44d7ed5c3c6c4a4f952339de9d5d1ba2",
              "version_major": 2,
              "version_minor": 0
            },
            "text/plain": [
              "IntText(value=20, description='Inference Steps (for this Scheduler 20 is recommanded):', layout=Layout(align_i…"
            ]
          },
          "metadata": {},
          "output_type": "display_data"
        },
        {
          "data": {
            "application/vnd.jupyter.widget-view+json": {
              "model_id": "ba443ddbc2e141c0bc1a02d6deb262c5",
              "version_major": 2,
              "version_minor": 0
            },
            "text/plain": [
              "FloatSlider(value=1.0, description='voxel Strength:', layout=Layout(align_items='center', display='flex', flex…"
            ]
          },
          "metadata": {},
          "output_type": "display_data"
        },
        {
          "data": {
            "application/vnd.jupyter.widget-view+json": {
              "model_id": "2e82749bf2584a04a9a58597873bce22",
              "version_major": 2,
              "version_minor": 0
            },
            "text/plain": [
              "FloatSlider(value=1.0, description='toy Strength:', layout=Layout(align_items='center', display='flex', flex_f…"
            ]
          },
          "metadata": {},
          "output_type": "display_data"
        },
        {
          "data": {
            "application/vnd.jupyter.widget-view+json": {
              "model_id": "fd4363ce00684fffac89d3eb0d95591e",
              "version_major": 2,
              "version_minor": 0
            },
            "text/plain": [
              "Button(description='Generate Image', style=ButtonStyle(), tooltip='Click to generate image')"
            ]
          },
          "metadata": {},
          "output_type": "display_data"
        },
        {
          "data": {
            "application/vnd.jupyter.widget-view+json": {
              "model_id": "6c8f985bff344916b3c25d9a8de85c1e",
              "version_major": 2,
              "version_minor": 0
            },
            "text/plain": [
              "Output()"
            ]
          },
          "metadata": {},
          "output_type": "display_data"
        }
      ],
      "source": [
        "# Display the widgets\n",
        "output_image.clear_output()\n",
        "# Link the button to the function\n",
        "generate_button.on_click(generate_image)\n",
        "display(prompt_widget,\n",
        "        seed_widget,\n",
        "        inference_steps_widget,\n",
        "        *lora_strength_widgets,\n",
        "        generate_button,\n",
        "        output_image\n",
        "        )"
      ]
    },
    {
      "cell_type": "code",
      "execution_count": null,
      "metadata": {},
      "outputs": [],
      "source": []
    }
  ],
  "metadata": {
    "accelerator": "GPU",
    "colab": {
      "collapsed_sections": [
        "14yzvc2k9xZQ",
        "-WcC6j-U-N6J"
      ],
      "gpuType": "T4",
      "provenance": []
    },
    "kernelspec": {
      "display_name": "base",
      "language": "python",
      "name": "python3"
    },
    "language_info": {
      "codemirror_mode": {
        "name": "ipython",
        "version": 3
      },
      "file_extension": ".py",
      "mimetype": "text/x-python",
      "name": "python",
      "nbconvert_exporter": "python",
      "pygments_lexer": "ipython3",
      "version": "3.11.3"
    },
    "widgets": {
      "application/vnd.jupyter.widget-state+json": {
        "02da190a22f446b6a63f748d95aa10e0": {
          "model_module": "@jupyter-widgets/controls",
          "model_module_version": "2.0.0",
          "model_name": "HBoxModel",
          "state": {
            "_dom_classes": [],
            "_model_module": "@jupyter-widgets/controls",
            "_model_module_version": "2.0.0",
            "_model_name": "HBoxModel",
            "_view_count": null,
            "_view_module": "@jupyter-widgets/controls",
            "_view_module_version": "2.0.0",
            "_view_name": "HBoxView",
            "box_style": "",
            "children": [
              "IPY_MODEL_4472a97a7ba149ddaf0152af4e46aa31",
              "IPY_MODEL_406e6ec82f834605b38836003341b4e5",
              "IPY_MODEL_1da0949fa9664d9390e110944454e8a0"
            ],
            "layout": "IPY_MODEL_bc750780f20f417b911a0cb86163afdb",
            "tabbable": null,
            "tooltip": null
          }
        },
        "1da0949fa9664d9390e110944454e8a0": {
          "model_module": "@jupyter-widgets/controls",
          "model_module_version": "2.0.0",
          "model_name": "HTMLModel",
          "state": {
            "_dom_classes": [],
            "_model_module": "@jupyter-widgets/controls",
            "_model_module_version": "2.0.0",
            "_model_name": "HTMLModel",
            "_view_count": null,
            "_view_module": "@jupyter-widgets/controls",
            "_view_module_version": "2.0.0",
            "_view_name": "HTMLView",
            "description": "",
            "description_allow_html": false,
            "layout": "IPY_MODEL_24eb7510079441b399dc5913d52cc04e",
            "placeholder": "​",
            "style": "IPY_MODEL_5ed475c32cf04faca76f2c3ddcc9c182",
            "tabbable": null,
            "tooltip": null,
            "value": " 7/7 [01:03&lt;00:00,  6.66s/it]"
          }
        },
        "24eb7510079441b399dc5913d52cc04e": {
          "model_module": "@jupyter-widgets/base",
          "model_module_version": "2.0.0",
          "model_name": "LayoutModel",
          "state": {
            "_model_module": "@jupyter-widgets/base",
            "_model_module_version": "2.0.0",
            "_model_name": "LayoutModel",
            "_view_count": null,
            "_view_module": "@jupyter-widgets/base",
            "_view_module_version": "2.0.0",
            "_view_name": "LayoutView",
            "align_content": null,
            "align_items": null,
            "align_self": null,
            "border_bottom": null,
            "border_left": null,
            "border_right": null,
            "border_top": null,
            "bottom": null,
            "display": null,
            "flex": null,
            "flex_flow": null,
            "grid_area": null,
            "grid_auto_columns": null,
            "grid_auto_flow": null,
            "grid_auto_rows": null,
            "grid_column": null,
            "grid_gap": null,
            "grid_row": null,
            "grid_template_areas": null,
            "grid_template_columns": null,
            "grid_template_rows": null,
            "height": null,
            "justify_content": null,
            "justify_items": null,
            "left": null,
            "margin": null,
            "max_height": null,
            "max_width": null,
            "min_height": null,
            "min_width": null,
            "object_fit": null,
            "object_position": null,
            "order": null,
            "overflow": null,
            "padding": null,
            "right": null,
            "top": null,
            "visibility": null,
            "width": null
          }
        },
        "329fb8b9ea3540d990be7703ac403663": {
          "model_module": "@jupyter-widgets/controls",
          "model_module_version": "2.0.0",
          "model_name": "TextModel",
          "state": {
            "_dom_classes": [],
            "_model_module": "@jupyter-widgets/controls",
            "_model_module_version": "2.0.0",
            "_model_name": "TextModel",
            "_view_count": null,
            "_view_module": "@jupyter-widgets/controls",
            "_view_module_version": "2.0.0",
            "_view_name": "TextView",
            "continuous_update": true,
            "description": "Prompt:",
            "description_allow_html": false,
            "disabled": false,
            "layout": "IPY_MODEL_33d820bee72a449cbeb628f31d3aa3de",
            "placeholder": "Enter your prompt here",
            "style": "IPY_MODEL_a5f39f2ce9444e1ab7e27dda725c6b5e",
            "tabbable": null,
            "tooltip": null,
            "value": "A futuristic cityscape"
          }
        },
        "33d820bee72a449cbeb628f31d3aa3de": {
          "model_module": "@jupyter-widgets/base",
          "model_module_version": "2.0.0",
          "model_name": "LayoutModel",
          "state": {
            "_model_module": "@jupyter-widgets/base",
            "_model_module_version": "2.0.0",
            "_model_name": "LayoutModel",
            "_view_count": null,
            "_view_module": "@jupyter-widgets/base",
            "_view_module_version": "2.0.0",
            "_view_name": "LayoutView",
            "align_content": null,
            "align_items": null,
            "align_self": null,
            "border_bottom": null,
            "border_left": null,
            "border_right": null,
            "border_top": null,
            "bottom": null,
            "display": null,
            "flex": null,
            "flex_flow": null,
            "grid_area": null,
            "grid_auto_columns": null,
            "grid_auto_flow": null,
            "grid_auto_rows": null,
            "grid_column": null,
            "grid_gap": null,
            "grid_row": null,
            "grid_template_areas": null,
            "grid_template_columns": null,
            "grid_template_rows": null,
            "height": null,
            "justify_content": null,
            "justify_items": null,
            "left": null,
            "margin": null,
            "max_height": null,
            "max_width": null,
            "min_height": null,
            "min_width": null,
            "object_fit": null,
            "object_position": null,
            "order": null,
            "overflow": null,
            "padding": null,
            "right": null,
            "top": null,
            "visibility": null,
            "width": null
          }
        },
        "406e6ec82f834605b38836003341b4e5": {
          "model_module": "@jupyter-widgets/controls",
          "model_module_version": "2.0.0",
          "model_name": "FloatProgressModel",
          "state": {
            "_dom_classes": [],
            "_model_module": "@jupyter-widgets/controls",
            "_model_module_version": "2.0.0",
            "_model_name": "FloatProgressModel",
            "_view_count": null,
            "_view_module": "@jupyter-widgets/controls",
            "_view_module_version": "2.0.0",
            "_view_name": "ProgressView",
            "bar_style": "success",
            "description": "",
            "description_allow_html": false,
            "layout": "IPY_MODEL_608475a678d441eabb880a5c3a602b7d",
            "max": 7,
            "min": 0,
            "orientation": "horizontal",
            "style": "IPY_MODEL_96247afd011044bd82dee8c61b2f33e8",
            "tabbable": null,
            "tooltip": null,
            "value": 7
          }
        },
        "4472a97a7ba149ddaf0152af4e46aa31": {
          "model_module": "@jupyter-widgets/controls",
          "model_module_version": "2.0.0",
          "model_name": "HTMLModel",
          "state": {
            "_dom_classes": [],
            "_model_module": "@jupyter-widgets/controls",
            "_model_module_version": "2.0.0",
            "_model_name": "HTMLModel",
            "_view_count": null,
            "_view_module": "@jupyter-widgets/controls",
            "_view_module_version": "2.0.0",
            "_view_name": "HTMLView",
            "description": "",
            "description_allow_html": false,
            "layout": "IPY_MODEL_c3c57c51f7cb4beba5cda33a18328f3e",
            "placeholder": "​",
            "style": "IPY_MODEL_787f8545ae0147aba50144c8c569f127",
            "tabbable": null,
            "tooltip": null,
            "value": "Loading pipeline components...: 100%"
          }
        },
        "5ed475c32cf04faca76f2c3ddcc9c182": {
          "model_module": "@jupyter-widgets/controls",
          "model_module_version": "2.0.0",
          "model_name": "HTMLStyleModel",
          "state": {
            "_model_module": "@jupyter-widgets/controls",
            "_model_module_version": "2.0.0",
            "_model_name": "HTMLStyleModel",
            "_view_count": null,
            "_view_module": "@jupyter-widgets/base",
            "_view_module_version": "2.0.0",
            "_view_name": "StyleView",
            "background": null,
            "description_width": "",
            "font_size": null,
            "text_color": null
          }
        },
        "608475a678d441eabb880a5c3a602b7d": {
          "model_module": "@jupyter-widgets/base",
          "model_module_version": "2.0.0",
          "model_name": "LayoutModel",
          "state": {
            "_model_module": "@jupyter-widgets/base",
            "_model_module_version": "2.0.0",
            "_model_name": "LayoutModel",
            "_view_count": null,
            "_view_module": "@jupyter-widgets/base",
            "_view_module_version": "2.0.0",
            "_view_name": "LayoutView",
            "align_content": null,
            "align_items": null,
            "align_self": null,
            "border_bottom": null,
            "border_left": null,
            "border_right": null,
            "border_top": null,
            "bottom": null,
            "display": null,
            "flex": null,
            "flex_flow": null,
            "grid_area": null,
            "grid_auto_columns": null,
            "grid_auto_flow": null,
            "grid_auto_rows": null,
            "grid_column": null,
            "grid_gap": null,
            "grid_row": null,
            "grid_template_areas": null,
            "grid_template_columns": null,
            "grid_template_rows": null,
            "height": null,
            "justify_content": null,
            "justify_items": null,
            "left": null,
            "margin": null,
            "max_height": null,
            "max_width": null,
            "min_height": null,
            "min_width": null,
            "object_fit": null,
            "object_position": null,
            "order": null,
            "overflow": null,
            "padding": null,
            "right": null,
            "top": null,
            "visibility": null,
            "width": null
          }
        },
        "787f8545ae0147aba50144c8c569f127": {
          "model_module": "@jupyter-widgets/controls",
          "model_module_version": "2.0.0",
          "model_name": "HTMLStyleModel",
          "state": {
            "_model_module": "@jupyter-widgets/controls",
            "_model_module_version": "2.0.0",
            "_model_name": "HTMLStyleModel",
            "_view_count": null,
            "_view_module": "@jupyter-widgets/base",
            "_view_module_version": "2.0.0",
            "_view_name": "StyleView",
            "background": null,
            "description_width": "",
            "font_size": null,
            "text_color": null
          }
        },
        "96247afd011044bd82dee8c61b2f33e8": {
          "model_module": "@jupyter-widgets/controls",
          "model_module_version": "2.0.0",
          "model_name": "ProgressStyleModel",
          "state": {
            "_model_module": "@jupyter-widgets/controls",
            "_model_module_version": "2.0.0",
            "_model_name": "ProgressStyleModel",
            "_view_count": null,
            "_view_module": "@jupyter-widgets/base",
            "_view_module_version": "2.0.0",
            "_view_name": "StyleView",
            "bar_color": null,
            "description_width": ""
          }
        },
        "a5f39f2ce9444e1ab7e27dda725c6b5e": {
          "model_module": "@jupyter-widgets/controls",
          "model_module_version": "2.0.0",
          "model_name": "TextStyleModel",
          "state": {
            "_model_module": "@jupyter-widgets/controls",
            "_model_module_version": "2.0.0",
            "_model_name": "TextStyleModel",
            "_view_count": null,
            "_view_module": "@jupyter-widgets/base",
            "_view_module_version": "2.0.0",
            "_view_name": "StyleView",
            "background": null,
            "description_width": "",
            "font_size": null,
            "text_color": null
          }
        },
        "bc750780f20f417b911a0cb86163afdb": {
          "model_module": "@jupyter-widgets/base",
          "model_module_version": "2.0.0",
          "model_name": "LayoutModel",
          "state": {
            "_model_module": "@jupyter-widgets/base",
            "_model_module_version": "2.0.0",
            "_model_name": "LayoutModel",
            "_view_count": null,
            "_view_module": "@jupyter-widgets/base",
            "_view_module_version": "2.0.0",
            "_view_name": "LayoutView",
            "align_content": null,
            "align_items": null,
            "align_self": null,
            "border_bottom": null,
            "border_left": null,
            "border_right": null,
            "border_top": null,
            "bottom": null,
            "display": null,
            "flex": null,
            "flex_flow": null,
            "grid_area": null,
            "grid_auto_columns": null,
            "grid_auto_flow": null,
            "grid_auto_rows": null,
            "grid_column": null,
            "grid_gap": null,
            "grid_row": null,
            "grid_template_areas": null,
            "grid_template_columns": null,
            "grid_template_rows": null,
            "height": null,
            "justify_content": null,
            "justify_items": null,
            "left": null,
            "margin": null,
            "max_height": null,
            "max_width": null,
            "min_height": null,
            "min_width": null,
            "object_fit": null,
            "object_position": null,
            "order": null,
            "overflow": null,
            "padding": null,
            "right": null,
            "top": null,
            "visibility": null,
            "width": null
          }
        },
        "c3c57c51f7cb4beba5cda33a18328f3e": {
          "model_module": "@jupyter-widgets/base",
          "model_module_version": "2.0.0",
          "model_name": "LayoutModel",
          "state": {
            "_model_module": "@jupyter-widgets/base",
            "_model_module_version": "2.0.0",
            "_model_name": "LayoutModel",
            "_view_count": null,
            "_view_module": "@jupyter-widgets/base",
            "_view_module_version": "2.0.0",
            "_view_name": "LayoutView",
            "align_content": null,
            "align_items": null,
            "align_self": null,
            "border_bottom": null,
            "border_left": null,
            "border_right": null,
            "border_top": null,
            "bottom": null,
            "display": null,
            "flex": null,
            "flex_flow": null,
            "grid_area": null,
            "grid_auto_columns": null,
            "grid_auto_flow": null,
            "grid_auto_rows": null,
            "grid_column": null,
            "grid_gap": null,
            "grid_row": null,
            "grid_template_areas": null,
            "grid_template_columns": null,
            "grid_template_rows": null,
            "height": null,
            "justify_content": null,
            "justify_items": null,
            "left": null,
            "margin": null,
            "max_height": null,
            "max_width": null,
            "min_height": null,
            "min_width": null,
            "object_fit": null,
            "object_position": null,
            "order": null,
            "overflow": null,
            "padding": null,
            "right": null,
            "top": null,
            "visibility": null,
            "width": null
          }
        }
      }
    }
  },
  "nbformat": 4,
  "nbformat_minor": 0
}
