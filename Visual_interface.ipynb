{
  "nbformat": 4,
  "nbformat_minor": 0,
  "metadata": {
    "colab": {
      "provenance": [],
      "collapsed_sections": [
        "14yzvc2k9xZQ",
        "-WcC6j-U-N6J"
      ],
      "gpuType": "T4"
    },
    "kernelspec": {
      "name": "python3",
      "display_name": "Python 3"
    },
    "language_info": {
      "name": "python"
    },
    "accelerator": "GPU",
    "widgets": {
      "application/vnd.jupyter.widget-state+json": {
        "02da190a22f446b6a63f748d95aa10e0": {
          "model_module": "@jupyter-widgets/controls",
          "model_name": "HBoxModel",
          "model_module_version": "2.0.0",
          "state": {
            "_dom_classes": [],
            "_model_module": "@jupyter-widgets/controls",
            "_model_module_version": "2.0.0",
            "_model_name": "HBoxModel",
            "_view_count": null,
            "_view_module": "@jupyter-widgets/controls",
            "_view_module_version": "2.0.0",
            "_view_name": "HBoxView",
            "box_style": "",
            "children": [
              "IPY_MODEL_4472a97a7ba149ddaf0152af4e46aa31",
              "IPY_MODEL_406e6ec82f834605b38836003341b4e5",
              "IPY_MODEL_1da0949fa9664d9390e110944454e8a0"
            ],
            "layout": "IPY_MODEL_bc750780f20f417b911a0cb86163afdb",
            "tabbable": null,
            "tooltip": null
          }
        },
        "4472a97a7ba149ddaf0152af4e46aa31": {
          "model_module": "@jupyter-widgets/controls",
          "model_name": "HTMLModel",
          "model_module_version": "2.0.0",
          "state": {
            "_dom_classes": [],
            "_model_module": "@jupyter-widgets/controls",
            "_model_module_version": "2.0.0",
            "_model_name": "HTMLModel",
            "_view_count": null,
            "_view_module": "@jupyter-widgets/controls",
            "_view_module_version": "2.0.0",
            "_view_name": "HTMLView",
            "description": "",
            "description_allow_html": false,
            "layout": "IPY_MODEL_c3c57c51f7cb4beba5cda33a18328f3e",
            "placeholder": "​",
            "style": "IPY_MODEL_787f8545ae0147aba50144c8c569f127",
            "tabbable": null,
            "tooltip": null,
            "value": "Loading pipeline components...: 100%"
          }
        },
        "406e6ec82f834605b38836003341b4e5": {
          "model_module": "@jupyter-widgets/controls",
          "model_name": "FloatProgressModel",
          "model_module_version": "2.0.0",
          "state": {
            "_dom_classes": [],
            "_model_module": "@jupyter-widgets/controls",
            "_model_module_version": "2.0.0",
            "_model_name": "FloatProgressModel",
            "_view_count": null,
            "_view_module": "@jupyter-widgets/controls",
            "_view_module_version": "2.0.0",
            "_view_name": "ProgressView",
            "bar_style": "success",
            "description": "",
            "description_allow_html": false,
            "layout": "IPY_MODEL_608475a678d441eabb880a5c3a602b7d",
            "max": 7,
            "min": 0,
            "orientation": "horizontal",
            "style": "IPY_MODEL_96247afd011044bd82dee8c61b2f33e8",
            "tabbable": null,
            "tooltip": null,
            "value": 7
          }
        },
        "1da0949fa9664d9390e110944454e8a0": {
          "model_module": "@jupyter-widgets/controls",
          "model_name": "HTMLModel",
          "model_module_version": "2.0.0",
          "state": {
            "_dom_classes": [],
            "_model_module": "@jupyter-widgets/controls",
            "_model_module_version": "2.0.0",
            "_model_name": "HTMLModel",
            "_view_count": null,
            "_view_module": "@jupyter-widgets/controls",
            "_view_module_version": "2.0.0",
            "_view_name": "HTMLView",
            "description": "",
            "description_allow_html": false,
            "layout": "IPY_MODEL_24eb7510079441b399dc5913d52cc04e",
            "placeholder": "​",
            "style": "IPY_MODEL_5ed475c32cf04faca76f2c3ddcc9c182",
            "tabbable": null,
            "tooltip": null,
            "value": " 7/7 [01:03&lt;00:00,  6.66s/it]"
          }
        },
        "bc750780f20f417b911a0cb86163afdb": {
          "model_module": "@jupyter-widgets/base",
          "model_name": "LayoutModel",
          "model_module_version": "2.0.0",
          "state": {
            "_model_module": "@jupyter-widgets/base",
            "_model_module_version": "2.0.0",
            "_model_name": "LayoutModel",
            "_view_count": null,
            "_view_module": "@jupyter-widgets/base",
            "_view_module_version": "2.0.0",
            "_view_name": "LayoutView",
            "align_content": null,
            "align_items": null,
            "align_self": null,
            "border_bottom": null,
            "border_left": null,
            "border_right": null,
            "border_top": null,
            "bottom": null,
            "display": null,
            "flex": null,
            "flex_flow": null,
            "grid_area": null,
            "grid_auto_columns": null,
            "grid_auto_flow": null,
            "grid_auto_rows": null,
            "grid_column": null,
            "grid_gap": null,
            "grid_row": null,
            "grid_template_areas": null,
            "grid_template_columns": null,
            "grid_template_rows": null,
            "height": null,
            "justify_content": null,
            "justify_items": null,
            "left": null,
            "margin": null,
            "max_height": null,
            "max_width": null,
            "min_height": null,
            "min_width": null,
            "object_fit": null,
            "object_position": null,
            "order": null,
            "overflow": null,
            "padding": null,
            "right": null,
            "top": null,
            "visibility": null,
            "width": null
          }
        },
        "c3c57c51f7cb4beba5cda33a18328f3e": {
          "model_module": "@jupyter-widgets/base",
          "model_name": "LayoutModel",
          "model_module_version": "2.0.0",
          "state": {
            "_model_module": "@jupyter-widgets/base",
            "_model_module_version": "2.0.0",
            "_model_name": "LayoutModel",
            "_view_count": null,
            "_view_module": "@jupyter-widgets/base",
            "_view_module_version": "2.0.0",
            "_view_name": "LayoutView",
            "align_content": null,
            "align_items": null,
            "align_self": null,
            "border_bottom": null,
            "border_left": null,
            "border_right": null,
            "border_top": null,
            "bottom": null,
            "display": null,
            "flex": null,
            "flex_flow": null,
            "grid_area": null,
            "grid_auto_columns": null,
            "grid_auto_flow": null,
            "grid_auto_rows": null,
            "grid_column": null,
            "grid_gap": null,
            "grid_row": null,
            "grid_template_areas": null,
            "grid_template_columns": null,
            "grid_template_rows": null,
            "height": null,
            "justify_content": null,
            "justify_items": null,
            "left": null,
            "margin": null,
            "max_height": null,
            "max_width": null,
            "min_height": null,
            "min_width": null,
            "object_fit": null,
            "object_position": null,
            "order": null,
            "overflow": null,
            "padding": null,
            "right": null,
            "top": null,
            "visibility": null,
            "width": null
          }
        },
        "787f8545ae0147aba50144c8c569f127": {
          "model_module": "@jupyter-widgets/controls",
          "model_name": "HTMLStyleModel",
          "model_module_version": "2.0.0",
          "state": {
            "_model_module": "@jupyter-widgets/controls",
            "_model_module_version": "2.0.0",
            "_model_name": "HTMLStyleModel",
            "_view_count": null,
            "_view_module": "@jupyter-widgets/base",
            "_view_module_version": "2.0.0",
            "_view_name": "StyleView",
            "background": null,
            "description_width": "",
            "font_size": null,
            "text_color": null
          }
        },
        "608475a678d441eabb880a5c3a602b7d": {
          "model_module": "@jupyter-widgets/base",
          "model_name": "LayoutModel",
          "model_module_version": "2.0.0",
          "state": {
            "_model_module": "@jupyter-widgets/base",
            "_model_module_version": "2.0.0",
            "_model_name": "LayoutModel",
            "_view_count": null,
            "_view_module": "@jupyter-widgets/base",
            "_view_module_version": "2.0.0",
            "_view_name": "LayoutView",
            "align_content": null,
            "align_items": null,
            "align_self": null,
            "border_bottom": null,
            "border_left": null,
            "border_right": null,
            "border_top": null,
            "bottom": null,
            "display": null,
            "flex": null,
            "flex_flow": null,
            "grid_area": null,
            "grid_auto_columns": null,
            "grid_auto_flow": null,
            "grid_auto_rows": null,
            "grid_column": null,
            "grid_gap": null,
            "grid_row": null,
            "grid_template_areas": null,
            "grid_template_columns": null,
            "grid_template_rows": null,
            "height": null,
            "justify_content": null,
            "justify_items": null,
            "left": null,
            "margin": null,
            "max_height": null,
            "max_width": null,
            "min_height": null,
            "min_width": null,
            "object_fit": null,
            "object_position": null,
            "order": null,
            "overflow": null,
            "padding": null,
            "right": null,
            "top": null,
            "visibility": null,
            "width": null
          }
        },
        "96247afd011044bd82dee8c61b2f33e8": {
          "model_module": "@jupyter-widgets/controls",
          "model_name": "ProgressStyleModel",
          "model_module_version": "2.0.0",
          "state": {
            "_model_module": "@jupyter-widgets/controls",
            "_model_module_version": "2.0.0",
            "_model_name": "ProgressStyleModel",
            "_view_count": null,
            "_view_module": "@jupyter-widgets/base",
            "_view_module_version": "2.0.0",
            "_view_name": "StyleView",
            "bar_color": null,
            "description_width": ""
          }
        },
        "24eb7510079441b399dc5913d52cc04e": {
          "model_module": "@jupyter-widgets/base",
          "model_name": "LayoutModel",
          "model_module_version": "2.0.0",
          "state": {
            "_model_module": "@jupyter-widgets/base",
            "_model_module_version": "2.0.0",
            "_model_name": "LayoutModel",
            "_view_count": null,
            "_view_module": "@jupyter-widgets/base",
            "_view_module_version": "2.0.0",
            "_view_name": "LayoutView",
            "align_content": null,
            "align_items": null,
            "align_self": null,
            "border_bottom": null,
            "border_left": null,
            "border_right": null,
            "border_top": null,
            "bottom": null,
            "display": null,
            "flex": null,
            "flex_flow": null,
            "grid_area": null,
            "grid_auto_columns": null,
            "grid_auto_flow": null,
            "grid_auto_rows": null,
            "grid_column": null,
            "grid_gap": null,
            "grid_row": null,
            "grid_template_areas": null,
            "grid_template_columns": null,
            "grid_template_rows": null,
            "height": null,
            "justify_content": null,
            "justify_items": null,
            "left": null,
            "margin": null,
            "max_height": null,
            "max_width": null,
            "min_height": null,
            "min_width": null,
            "object_fit": null,
            "object_position": null,
            "order": null,
            "overflow": null,
            "padding": null,
            "right": null,
            "top": null,
            "visibility": null,
            "width": null
          }
        },
        "5ed475c32cf04faca76f2c3ddcc9c182": {
          "model_module": "@jupyter-widgets/controls",
          "model_name": "HTMLStyleModel",
          "model_module_version": "2.0.0",
          "state": {
            "_model_module": "@jupyter-widgets/controls",
            "_model_module_version": "2.0.0",
            "_model_name": "HTMLStyleModel",
            "_view_count": null,
            "_view_module": "@jupyter-widgets/base",
            "_view_module_version": "2.0.0",
            "_view_name": "StyleView",
            "background": null,
            "description_width": "",
            "font_size": null,
            "text_color": null
          }
        },
        "329fb8b9ea3540d990be7703ac403663": {
          "model_module": "@jupyter-widgets/controls",
          "model_name": "TextModel",
          "model_module_version": "2.0.0",
          "state": {
            "_dom_classes": [],
            "_model_module": "@jupyter-widgets/controls",
            "_model_module_version": "2.0.0",
            "_model_name": "TextModel",
            "_view_count": null,
            "_view_module": "@jupyter-widgets/controls",
            "_view_module_version": "2.0.0",
            "_view_name": "TextView",
            "continuous_update": true,
            "description": "Prompt:",
            "description_allow_html": false,
            "disabled": false,
            "layout": "IPY_MODEL_33d820bee72a449cbeb628f31d3aa3de",
            "placeholder": "Enter your prompt here",
            "style": "IPY_MODEL_a5f39f2ce9444e1ab7e27dda725c6b5e",
            "tabbable": null,
            "tooltip": null,
            "value": "A futuristic cityscape"
          }
        },
        "33d820bee72a449cbeb628f31d3aa3de": {
          "model_module": "@jupyter-widgets/base",
          "model_name": "LayoutModel",
          "model_module_version": "2.0.0",
          "state": {
            "_model_module": "@jupyter-widgets/base",
            "_model_module_version": "2.0.0",
            "_model_name": "LayoutModel",
            "_view_count": null,
            "_view_module": "@jupyter-widgets/base",
            "_view_module_version": "2.0.0",
            "_view_name": "LayoutView",
            "align_content": null,
            "align_items": null,
            "align_self": null,
            "border_bottom": null,
            "border_left": null,
            "border_right": null,
            "border_top": null,
            "bottom": null,
            "display": null,
            "flex": null,
            "flex_flow": null,
            "grid_area": null,
            "grid_auto_columns": null,
            "grid_auto_flow": null,
            "grid_auto_rows": null,
            "grid_column": null,
            "grid_gap": null,
            "grid_row": null,
            "grid_template_areas": null,
            "grid_template_columns": null,
            "grid_template_rows": null,
            "height": null,
            "justify_content": null,
            "justify_items": null,
            "left": null,
            "margin": null,
            "max_height": null,
            "max_width": null,
            "min_height": null,
            "min_width": null,
            "object_fit": null,
            "object_position": null,
            "order": null,
            "overflow": null,
            "padding": null,
            "right": null,
            "top": null,
            "visibility": null,
            "width": null
          }
        },
        "a5f39f2ce9444e1ab7e27dda725c6b5e": {
          "model_module": "@jupyter-widgets/controls",
          "model_name": "TextStyleModel",
          "model_module_version": "2.0.0",
          "state": {
            "_model_module": "@jupyter-widgets/controls",
            "_model_module_version": "2.0.0",
            "_model_name": "TextStyleModel",
            "_view_count": null,
            "_view_module": "@jupyter-widgets/base",
            "_view_module_version": "2.0.0",
            "_view_name": "StyleView",
            "background": null,
            "description_width": "",
            "font_size": null,
            "text_color": null
          }
        }
      }
    }
  },
  "cells": [
    {
      "cell_type": "markdown",
      "source": [
        "# Importing the utils"
      ],
      "metadata": {
        "id": "14yzvc2k9xZQ"
      }
    },
    {
      "cell_type": "code",
      "execution_count": null,
      "metadata": {
        "colab": {
          "base_uri": "https://localhost:8080/"
        },
        "collapsed": true,
        "id": "kNCFvlU89R_t",
        "outputId": "d7855c49-ae19-4e46-d794-94326c2083b4"
      },
      "outputs": [
        {
          "output_type": "stream",
          "name": "stdout",
          "text": [
            "Defaulting to user installation because normal site-packages is not writeable\n",
            "Requirement already satisfied: diffusers in /users/eleves-b/2022/quentin.leca/.local/lib/python3.11/site-packages (0.32.2)\n",
            "Requirement already satisfied: accelerate in /users/eleves-b/2022/quentin.leca/.local/lib/python3.11/site-packages (1.6.0)\n",
            "Requirement already satisfied: transformers in /users/eleves-b/2022/quentin.leca/.local/lib/python3.11/site-packages (4.50.3)\n",
            "Collecting transformers\n",
            "  Downloading transformers-4.51.0-py3-none-any.whl (10.4 MB)\n",
            "\u001b[2K     \u001b[90m━━━━━━━━━━━━━━━━━━━━━━━━━━━━━━━━━━━━━━━━\u001b[0m \u001b[32m10.4/10.4 MB\u001b[0m \u001b[31m48.1 MB/s\u001b[0m eta \u001b[36m0:00:00\u001b[0m\n",
            "\u001b[?25hRequirement already satisfied: ipywidgets in /users/eleves-b/2022/quentin.leca/.local/lib/python3.11/site-packages (8.1.5)\n",
            "Requirement already satisfied: importlib-metadata in /usr/local/Anaconda3-2023.07-1/lib/python3.11/site-packages (from diffusers) (6.0.0)\n",
            "Requirement already satisfied: filelock in /users/eleves-b/2022/quentin.leca/.local/lib/python3.11/site-packages (from diffusers) (3.17.0)\n",
            "Requirement already satisfied: huggingface-hub>=0.23.2 in /users/eleves-b/2022/quentin.leca/.local/lib/python3.11/site-packages (from diffusers) (0.30.1)\n",
            "Requirement already satisfied: numpy in /users/eleves-b/2022/quentin.leca/.local/lib/python3.11/site-packages (from diffusers) (1.26.4)\n",
            "Requirement already satisfied: regex!=2019.12.17 in /usr/local/Anaconda3-2023.07-1/lib/python3.11/site-packages (from diffusers) (2022.7.9)\n",
            "Requirement already satisfied: requests in /usr/local/Anaconda3-2023.07-1/lib/python3.11/site-packages (from diffusers) (2.29.0)\n",
            "Requirement already satisfied: safetensors>=0.3.1 in /users/eleves-b/2022/quentin.leca/.local/lib/python3.11/site-packages (from diffusers) (0.4.3)\n",
            "Requirement already satisfied: Pillow in /users/eleves-b/2022/quentin.leca/.local/lib/python3.11/site-packages (from diffusers) (11.1.0)\n",
            "Requirement already satisfied: packaging>=20.0 in /usr/local/Anaconda3-2023.07-1/lib/python3.11/site-packages (from accelerate) (23.0)\n",
            "Requirement already satisfied: psutil in /usr/local/Anaconda3-2023.07-1/lib/python3.11/site-packages (from accelerate) (5.9.0)\n",
            "Requirement already satisfied: pyyaml in /usr/local/Anaconda3-2023.07-1/lib/python3.11/site-packages (from accelerate) (6.0)\n",
            "Requirement already satisfied: torch>=2.0.0 in /users/eleves-b/2022/quentin.leca/.local/lib/python3.11/site-packages (from accelerate) (2.6.0)\n",
            "Requirement already satisfied: tokenizers<0.22,>=0.21 in /users/eleves-b/2022/quentin.leca/.local/lib/python3.11/site-packages (from transformers) (0.21.1)\n",
            "Requirement already satisfied: tqdm>=4.27 in /usr/local/Anaconda3-2023.07-1/lib/python3.11/site-packages (from transformers) (4.65.0)\n",
            "Requirement already satisfied: comm>=0.1.3 in /users/eleves-b/2022/quentin.leca/.local/lib/python3.11/site-packages (from ipywidgets) (0.2.2)\n",
            "Requirement already satisfied: ipython>=6.1.0 in /usr/local/Anaconda3-2023.07-1/lib/python3.11/site-packages (from ipywidgets) (8.12.0)\n",
            "Requirement already satisfied: traitlets>=4.3.1 in /usr/local/Anaconda3-2023.07-1/lib/python3.11/site-packages (from ipywidgets) (5.7.1)\n",
            "Requirement already satisfied: widgetsnbextension~=4.0.12 in /users/eleves-b/2022/quentin.leca/.local/lib/python3.11/site-packages (from ipywidgets) (4.0.13)\n",
            "Requirement already satisfied: jupyterlab-widgets~=3.0.12 in /users/eleves-b/2022/quentin.leca/.local/lib/python3.11/site-packages (from ipywidgets) (3.0.13)\n",
            "Requirement already satisfied: fsspec>=2023.5.0 in /users/eleves-b/2022/quentin.leca/.local/lib/python3.11/site-packages (from huggingface-hub>=0.23.2->diffusers) (2025.3.0)\n",
            "Requirement already satisfied: typing-extensions>=3.7.4.3 in /users/eleves-b/2022/quentin.leca/.local/lib/python3.11/site-packages (from huggingface-hub>=0.23.2->diffusers) (4.12.2)\n",
            "Requirement already satisfied: backcall in /usr/local/Anaconda3-2023.07-1/lib/python3.11/site-packages (from ipython>=6.1.0->ipywidgets) (0.2.0)\n",
            "Requirement already satisfied: decorator in /usr/local/Anaconda3-2023.07-1/lib/python3.11/site-packages (from ipython>=6.1.0->ipywidgets) (5.1.1)\n",
            "Requirement already satisfied: jedi>=0.16 in /usr/local/Anaconda3-2023.07-1/lib/python3.11/site-packages (from ipython>=6.1.0->ipywidgets) (0.18.1)\n",
            "Requirement already satisfied: matplotlib-inline in /usr/local/Anaconda3-2023.07-1/lib/python3.11/site-packages (from ipython>=6.1.0->ipywidgets) (0.1.6)\n",
            "Requirement already satisfied: pickleshare in /usr/local/Anaconda3-2023.07-1/lib/python3.11/site-packages (from ipython>=6.1.0->ipywidgets) (0.7.5)\n",
            "Requirement already satisfied: prompt-toolkit!=3.0.37,<3.1.0,>=3.0.30 in /usr/local/Anaconda3-2023.07-1/lib/python3.11/site-packages (from ipython>=6.1.0->ipywidgets) (3.0.36)\n",
            "Requirement already satisfied: pygments>=2.4.0 in /usr/local/Anaconda3-2023.07-1/lib/python3.11/site-packages (from ipython>=6.1.0->ipywidgets) (2.15.1)\n",
            "Requirement already satisfied: stack-data in /usr/local/Anaconda3-2023.07-1/lib/python3.11/site-packages (from ipython>=6.1.0->ipywidgets) (0.2.0)\n",
            "Requirement already satisfied: pexpect>4.3 in /usr/local/Anaconda3-2023.07-1/lib/python3.11/site-packages (from ipython>=6.1.0->ipywidgets) (4.8.0)\n",
            "Requirement already satisfied: networkx in /usr/local/Anaconda3-2023.07-1/lib/python3.11/site-packages (from torch>=2.0.0->accelerate) (2.8.4)\n",
            "Requirement already satisfied: jinja2 in /users/eleves-b/2022/quentin.leca/.local/lib/python3.11/site-packages (from torch>=2.0.0->accelerate) (3.1.6)\n",
            "Requirement already satisfied: nvidia-cuda-nvrtc-cu12==12.4.127 in /users/eleves-b/2022/quentin.leca/.local/lib/python3.11/site-packages (from torch>=2.0.0->accelerate) (12.4.127)\n",
            "Requirement already satisfied: nvidia-cuda-runtime-cu12==12.4.127 in /users/eleves-b/2022/quentin.leca/.local/lib/python3.11/site-packages (from torch>=2.0.0->accelerate) (12.4.127)\n",
            "Requirement already satisfied: nvidia-cuda-cupti-cu12==12.4.127 in /users/eleves-b/2022/quentin.leca/.local/lib/python3.11/site-packages (from torch>=2.0.0->accelerate) (12.4.127)\n",
            "Requirement already satisfied: nvidia-cudnn-cu12==9.1.0.70 in /users/eleves-b/2022/quentin.leca/.local/lib/python3.11/site-packages (from torch>=2.0.0->accelerate) (9.1.0.70)\n",
            "Requirement already satisfied: nvidia-cublas-cu12==12.4.5.8 in /users/eleves-b/2022/quentin.leca/.local/lib/python3.11/site-packages (from torch>=2.0.0->accelerate) (12.4.5.8)\n",
            "Requirement already satisfied: nvidia-cufft-cu12==11.2.1.3 in /users/eleves-b/2022/quentin.leca/.local/lib/python3.11/site-packages (from torch>=2.0.0->accelerate) (11.2.1.3)\n",
            "Requirement already satisfied: nvidia-curand-cu12==10.3.5.147 in /users/eleves-b/2022/quentin.leca/.local/lib/python3.11/site-packages (from torch>=2.0.0->accelerate) (10.3.5.147)\n",
            "Requirement already satisfied: nvidia-cusolver-cu12==11.6.1.9 in /users/eleves-b/2022/quentin.leca/.local/lib/python3.11/site-packages (from torch>=2.0.0->accelerate) (11.6.1.9)\n",
            "Requirement already satisfied: nvidia-cusparse-cu12==12.3.1.170 in /users/eleves-b/2022/quentin.leca/.local/lib/python3.11/site-packages (from torch>=2.0.0->accelerate) (12.3.1.170)\n",
            "Requirement already satisfied: nvidia-cusparselt-cu12==0.6.2 in /users/eleves-b/2022/quentin.leca/.local/lib/python3.11/site-packages (from torch>=2.0.0->accelerate) (0.6.2)\n",
            "Requirement already satisfied: nvidia-nccl-cu12==2.21.5 in /users/eleves-b/2022/quentin.leca/.local/lib/python3.11/site-packages (from torch>=2.0.0->accelerate) (2.21.5)\n",
            "Requirement already satisfied: nvidia-nvtx-cu12==12.4.127 in /users/eleves-b/2022/quentin.leca/.local/lib/python3.11/site-packages (from torch>=2.0.0->accelerate) (12.4.127)\n",
            "Requirement already satisfied: nvidia-nvjitlink-cu12==12.4.127 in /users/eleves-b/2022/quentin.leca/.local/lib/python3.11/site-packages (from torch>=2.0.0->accelerate) (12.4.127)\n",
            "Requirement already satisfied: triton==3.2.0 in /users/eleves-b/2022/quentin.leca/.local/lib/python3.11/site-packages (from torch>=2.0.0->accelerate) (3.2.0)\n",
            "Requirement already satisfied: sympy==1.13.1 in /users/eleves-b/2022/quentin.leca/.local/lib/python3.11/site-packages (from torch>=2.0.0->accelerate) (1.13.1)\n",
            "Requirement already satisfied: mpmath<1.4,>=1.1.0 in /users/eleves-b/2022/quentin.leca/.local/lib/python3.11/site-packages (from sympy==1.13.1->torch>=2.0.0->accelerate) (1.3.0)\n",
            "Requirement already satisfied: zipp>=0.5 in /usr/local/Anaconda3-2023.07-1/lib/python3.11/site-packages (from importlib-metadata->diffusers) (3.11.0)\n",
            "Requirement already satisfied: charset-normalizer<4,>=2 in /usr/local/Anaconda3-2023.07-1/lib/python3.11/site-packages (from requests->diffusers) (2.0.4)\n",
            "Requirement already satisfied: idna<4,>=2.5 in /usr/local/Anaconda3-2023.07-1/lib/python3.11/site-packages (from requests->diffusers) (3.4)\n",
            "Requirement already satisfied: urllib3<1.27,>=1.21.1 in /usr/local/Anaconda3-2023.07-1/lib/python3.11/site-packages (from requests->diffusers) (1.26.16)\n",
            "Requirement already satisfied: certifi>=2017.4.17 in /usr/local/Anaconda3-2023.07-1/lib/python3.11/site-packages (from requests->diffusers) (2023.5.7)\n",
            "Requirement already satisfied: parso<0.9.0,>=0.8.0 in /usr/local/Anaconda3-2023.07-1/lib/python3.11/site-packages (from jedi>=0.16->ipython>=6.1.0->ipywidgets) (0.8.3)\n",
            "Requirement already satisfied: ptyprocess>=0.5 in /usr/local/Anaconda3-2023.07-1/lib/python3.11/site-packages (from pexpect>4.3->ipython>=6.1.0->ipywidgets) (0.7.0)\n",
            "Requirement already satisfied: wcwidth in /usr/local/Anaconda3-2023.07-1/lib/python3.11/site-packages (from prompt-toolkit!=3.0.37,<3.1.0,>=3.0.30->ipython>=6.1.0->ipywidgets) (0.2.5)\n",
            "Requirement already satisfied: MarkupSafe>=2.0 in /users/eleves-b/2022/quentin.leca/.local/lib/python3.11/site-packages (from jinja2->torch>=2.0.0->accelerate) (3.0.2)\n",
            "Requirement already satisfied: executing in /usr/local/Anaconda3-2023.07-1/lib/python3.11/site-packages (from stack-data->ipython>=6.1.0->ipywidgets) (0.8.3)\n",
            "Requirement already satisfied: asttokens in /usr/local/Anaconda3-2023.07-1/lib/python3.11/site-packages (from stack-data->ipython>=6.1.0->ipywidgets) (2.0.5)\n",
            "Requirement already satisfied: pure-eval in /usr/local/Anaconda3-2023.07-1/lib/python3.11/site-packages (from stack-data->ipython>=6.1.0->ipywidgets) (0.2.2)\n",
            "Requirement already satisfied: six in /usr/local/Anaconda3-2023.07-1/lib/python3.11/site-packages (from asttokens->stack-data->ipython>=6.1.0->ipywidgets) (1.16.0)\n",
            "Installing collected packages: transformers\n",
            "  Attempting uninstall: transformers\n",
            "    Found existing installation: transformers 4.50.3\n",
            "    Uninstalling transformers-4.50.3:\n",
            "      Successfully uninstalled transformers-4.50.3\n",
            "\u001b[33m  WARNING: The script transformers-cli is installed in '/users/eleves-b/2022/quentin.leca/.local/bin' which is not on PATH.\n",
            "  Consider adding this directory to PATH or, if you prefer to suppress this warning, use --no-warn-script-location.\u001b[0m\u001b[33m\n",
            "\u001b[0mSuccessfully installed transformers-4.51.0\n"
          ]
        }
      ],
      "source": [
        "!pip install --upgrade diffusers accelerate transformers ipywidgets"
      ]
    },
    {
      "cell_type": "code",
      "source": [
        "from IPython.display import display\n",
        "from diffusers import DiffusionPipeline, DPMSolverMultistepScheduler\n",
        "import torch\n",
        "import numpy as np\n",
        "import ipywidgets as widgets"
      ],
      "metadata": {
        "id": "4gD_m_ho9iDQ"
      },
      "execution_count": null,
      "outputs": []
    },
    {
      "cell_type": "code",
      "source": [
        "pipe_id = \"stabilityai/stable-diffusion-xl-base-1.0\"\n",
        "pipe = DiffusionPipeline.from_pretrained(pipe_id, torch_dtype=torch.float16).to(\"cuda\")\n",
        "# More efficient Scheduler (need just 20 inference steps)\n",
        "pipe.scheduler = DPMSolverMultistepScheduler.from_config(pipe.scheduler.config)"
      ],
      "metadata": {
        "colab": {
          "base_uri": "https://localhost:8080/",
          "height": 17,
          "referenced_widgets": [
            "02da190a22f446b6a63f748d95aa10e0",
            "4472a97a7ba149ddaf0152af4e46aa31",
            "406e6ec82f834605b38836003341b4e5",
            "1da0949fa9664d9390e110944454e8a0",
            "bc750780f20f417b911a0cb86163afdb",
            "c3c57c51f7cb4beba5cda33a18328f3e",
            "787f8545ae0147aba50144c8c569f127",
            "608475a678d441eabb880a5c3a602b7d",
            "96247afd011044bd82dee8c61b2f33e8",
            "24eb7510079441b399dc5913d52cc04e",
            "5ed475c32cf04faca76f2c3ddcc9c182"
          ]
        },
        "collapsed": true,
        "id": "p2vLR4zo9lOo",
        "outputId": "d5a42811-a9ae-4d74-a902-d8669a3351d1"
      },
      "execution_count": null,
      "outputs": [
        {
          "output_type": "display_data",
          "data": {
            "text/plain": [
              "Loading pipeline components...:   0%|          | 0/7 [00:00<?, ?it/s]"
            ],
            "application/vnd.jupyter.widget-view+json": {
              "version_major": 2,
              "version_minor": 0,
              "model_id": "02da190a22f446b6a63f748d95aa10e0"
            }
          },
          "metadata": {}
        }
      ]
    },
    {
      "cell_type": "code",
      "source": [
        "# trigger word : voxel style\n",
        "pipe.load_lora_weights(\"Fictiverse/Voxel_XL_Lora\", weight_name=\"VoxelXL_v1.safetensors\", adapter_name=\"voxel\")\n",
        "# trigger word : toy_face\n",
        "pipe.load_lora_weights(\"CiroN2022/toy-face\", weight_name=\"toy_face_sdxl.safetensors\", adapter_name=\"toy\")"
      ],
      "metadata": {
        "colab": {
          "base_uri": "https://localhost:8080/",
          "height": 432
        },
        "id": "ghHAMKHd9r_E",
        "outputId": "be2535ec-0978-4f20-9771-ed2c048de90b"
      },
      "execution_count": null,
      "outputs": [
        {
          "output_type": "error",
          "ename": "ValueError",
          "evalue": "PEFT backend is required for this method.",
          "traceback": [
            "\u001b[0;31m---------------------------------------------------------------------------\u001b[0m",
            "\u001b[0;31mValueError\u001b[0m                                Traceback (most recent call last)",
            "Cell \u001b[0;32mIn[6], line 2\u001b[0m\n\u001b[1;32m      1\u001b[0m \u001b[38;5;66;03m# trigger word : voxel style\u001b[39;00m\n\u001b[0;32m----> 2\u001b[0m pipe\u001b[38;5;241m.\u001b[39mload_lora_weights(\u001b[38;5;124m\"\u001b[39m\u001b[38;5;124mFictiverse/Voxel_XL_Lora\u001b[39m\u001b[38;5;124m\"\u001b[39m, weight_name\u001b[38;5;241m=\u001b[39m\u001b[38;5;124m\"\u001b[39m\u001b[38;5;124mVoxelXL_v1.safetensors\u001b[39m\u001b[38;5;124m\"\u001b[39m, adapter_name\u001b[38;5;241m=\u001b[39m\u001b[38;5;124m\"\u001b[39m\u001b[38;5;124mvoxel\u001b[39m\u001b[38;5;124m\"\u001b[39m)\n\u001b[1;32m      3\u001b[0m \u001b[38;5;66;03m# trigger word : toy_face\u001b[39;00m\n\u001b[1;32m      4\u001b[0m pipe\u001b[38;5;241m.\u001b[39mload_lora_weights(\u001b[38;5;124m\"\u001b[39m\u001b[38;5;124mCiroN2022/toy-face\u001b[39m\u001b[38;5;124m\"\u001b[39m, weight_name\u001b[38;5;241m=\u001b[39m\u001b[38;5;124m\"\u001b[39m\u001b[38;5;124mtoy_face_sdxl.safetensors\u001b[39m\u001b[38;5;124m\"\u001b[39m, adapter_name\u001b[38;5;241m=\u001b[39m\u001b[38;5;124m\"\u001b[39m\u001b[38;5;124mtoy\u001b[39m\u001b[38;5;124m\"\u001b[39m)\n",
            "File \u001b[0;32m~/.local/lib/python3.11/site-packages/diffusers/loaders/lora_pipeline.py:526\u001b[0m, in \u001b[0;36mStableDiffusionXLLoraLoaderMixin.load_lora_weights\u001b[0;34m(self, pretrained_model_name_or_path_or_dict, adapter_name, **kwargs)\u001b[0m\n\u001b[1;32m    498\u001b[0m \u001b[38;5;250m\u001b[39m\u001b[38;5;124;03m\"\"\"\u001b[39;00m\n\u001b[1;32m    499\u001b[0m \u001b[38;5;124;03mLoad LoRA weights specified in `pretrained_model_name_or_path_or_dict` into `self.unet` and\u001b[39;00m\n\u001b[1;32m    500\u001b[0m \u001b[38;5;124;03m`self.text_encoder`.\u001b[39;00m\n\u001b[0;32m   (...)\u001b[0m\n\u001b[1;32m    523\u001b[0m \u001b[38;5;124;03m        See [`~loaders.StableDiffusionLoraLoaderMixin.lora_state_dict`].\u001b[39;00m\n\u001b[1;32m    524\u001b[0m \u001b[38;5;124;03m\"\"\"\u001b[39;00m\n\u001b[1;32m    525\u001b[0m \u001b[38;5;28;01mif\u001b[39;00m \u001b[38;5;129;01mnot\u001b[39;00m USE_PEFT_BACKEND:\n\u001b[0;32m--> 526\u001b[0m     \u001b[38;5;28;01mraise\u001b[39;00m \u001b[38;5;167;01mValueError\u001b[39;00m(\u001b[38;5;124m\"\u001b[39m\u001b[38;5;124mPEFT backend is required for this method.\u001b[39m\u001b[38;5;124m\"\u001b[39m)\n\u001b[1;32m    528\u001b[0m low_cpu_mem_usage \u001b[38;5;241m=\u001b[39m kwargs\u001b[38;5;241m.\u001b[39mpop(\u001b[38;5;124m\"\u001b[39m\u001b[38;5;124mlow_cpu_mem_usage\u001b[39m\u001b[38;5;124m\"\u001b[39m, _LOW_CPU_MEM_USAGE_DEFAULT_LORA)\n\u001b[1;32m    529\u001b[0m \u001b[38;5;28;01mif\u001b[39;00m low_cpu_mem_usage \u001b[38;5;129;01mand\u001b[39;00m \u001b[38;5;129;01mnot\u001b[39;00m is_peft_version(\u001b[38;5;124m\"\u001b[39m\u001b[38;5;124m>=\u001b[39m\u001b[38;5;124m\"\u001b[39m, \u001b[38;5;124m\"\u001b[39m\u001b[38;5;124m0.13.1\u001b[39m\u001b[38;5;124m\"\u001b[39m):\n",
            "\u001b[0;31mValueError\u001b[0m: PEFT backend is required for this method."
          ]
        }
      ]
    },
    {
      "cell_type": "markdown",
      "source": [
        "# Empty the Torch Cache"
      ],
      "metadata": {
        "id": "FtmKxR69B40V"
      }
    },
    {
      "cell_type": "code",
      "source": [
        "torch.cuda.empty_cache()"
      ],
      "metadata": {
        "id": "jZhO4XwtB7wZ"
      },
      "execution_count": null,
      "outputs": []
    },
    {
      "cell_type": "markdown",
      "source": [
        "# Creating the inteface"
      ],
      "metadata": {
        "id": "EYgB6ahe91ZL"
      }
    },
    {
      "cell_type": "markdown",
      "source": [
        "## Creating the widgets"
      ],
      "metadata": {
        "id": "-WcC6j-U-N6J"
      }
    },
    {
      "cell_type": "code",
      "source": [
        "# Create widgets\n",
        "prompt_widget = widgets.Text(\n",
        "    value='A futuristic cityscape',\n",
        "    placeholder='Enter your prompt here',\n",
        "    description='Prompt:',\n",
        "    disabled=False\n",
        ")\n",
        "\n",
        "seed_widget = widgets.IntText(\n",
        "    value=0,\n",
        "    min=-1,\n",
        "    step=1,\n",
        "    description='Seed (-1 is random):',\n",
        "    disabled=False\n",
        ")\n",
        "\n",
        "inference_steps_widget = widgets.IntText(\n",
        "    value=20,\n",
        "    min=1,\n",
        "    step=1,\n",
        "    description='Inference Steps (for this Scheduler 20 is recommanded):',\n",
        "    disabled=False\n",
        ")\n",
        "\n",
        "generate_button = widgets.Button(\n",
        "    description='Generate Image',\n",
        "    disabled=False,\n",
        "    button_style='',  # 'success', 'info', 'warning', 'danger' or ''\n",
        "    tooltip='Click to generate image'\n",
        ")\n",
        "\n",
        "output_image = widgets.Output()"
      ],
      "metadata": {
        "id": "x9KjuYdO94XS"
      },
      "execution_count": null,
      "outputs": []
    },
    {
      "cell_type": "markdown",
      "source": [
        "## Utils Functions"
      ],
      "metadata": {
        "id": "TaAVtIgr-P7Z"
      }
    },
    {
      "cell_type": "code",
      "source": [
        "def generate_image(b):\n",
        "  print(\"in the function\")\n",
        "  with output_image:\n",
        "    seed = seed_widget.value\n",
        "    if seed == -1:\n",
        "      seed = np.random.randint(0, 2**32 - 1)\n",
        "    generator = torch.Generator(device=\"cuda\").manual_seed(seed)\n",
        "    output_image.clear_output()\n",
        "    prompt = prompt_widget.value\n",
        "    print(\"Generating image\")\n",
        "    image = pipe(prompt,\n",
        "                  num_inference_steps=inference_steps_widget.value,\n",
        "                  cross_attention_kwargs={\"scale\": 0.0},\n",
        "                  generator=generator\n",
        "                  ).images[0]\n",
        "    print(\"Displaying image\")\n",
        "    display(image)\n",
        "\n",
        "# Link the button to the function\n",
        "generate_button.on_click(generate_image)"
      ],
      "metadata": {
        "id": "HF-KtNVm-EhL"
      },
      "execution_count": null,
      "outputs": []
    },
    {
      "cell_type": "markdown",
      "source": [
        "## Displaying the widgets"
      ],
      "metadata": {
        "id": "cOQ_lmVs-Un-"
      }
    },
    {
      "cell_type": "code",
      "source": [
        "# Display the widgets\n",
        "display(prompt_widget)"
      ],
      "metadata": {
        "colab": {
          "base_uri": "https://localhost:8080/",
          "height": 17,
          "referenced_widgets": [
            "329fb8b9ea3540d990be7703ac403663",
            "33d820bee72a449cbeb628f31d3aa3de",
            "a5f39f2ce9444e1ab7e27dda725c6b5e"
          ]
        },
        "id": "WM8Lgm9L-MS_",
        "outputId": "91f1ddcd-ef34-48b8-9f74-b28139c16c1a"
      },
      "execution_count": null,
      "outputs": [
        {
          "output_type": "display_data",
          "data": {
            "text/plain": [
              "Text(value='A futuristic cityscape', description='Prompt:', placeholder='Enter your prompt here')"
            ],
            "application/vnd.jupyter.widget-view+json": {
              "version_major": 2,
              "version_minor": 0,
              "model_id": "329fb8b9ea3540d990be7703ac403663"
            }
          },
          "metadata": {}
        }
      ]
    },
    {
      "cell_type": "code",
      "source": [],
      "metadata": {
        "id": "JbmxbZ8vBo2b"
      },
      "execution_count": null,
      "outputs": []
    }
  ]
}