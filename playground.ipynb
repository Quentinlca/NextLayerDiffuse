{
 "cells": [
  {
   "cell_type": "code",
   "execution_count": null,
   "id": "4c5e4526",
   "metadata": {},
   "outputs": [],
   "source": [
    "from layer_diffuse.data_loaders import ModularCharatersDataLoader\n",
    "from layer_diffuse.models import DDIMNextTokenV1_Refactored\n",
    "import json\n",
    "pipeline = DDIMNextTokenV1_Refactored.DDIMNextTokenV1PipelineRefactored()\n",
    "vocab_file = \"layer_diffuse/vocab.json\"\n",
    "with open(vocab_file, 'r') as f:\n",
    "    vocab = json.load(f)\n",
    "dataloader = ModularCharatersDataLoader.get_modular_char_dataloader(dataset_name='QLeca/modular_characters_v3',\n",
    "                                                                            split='train',\n",
    "                                                                            image_size=128,\n",
    "                                                                            batch_size=8,\n",
    "                                                                            shuffle=True,\n",
    "                                                                            streaming=True,\n",
    "                                                                            conversionRGBA=True,\n",
    "                                                                            vocab=vocab)"
   ]
  },
  {
   "cell_type": "code",
   "execution_count": null,
   "id": "98949da5",
   "metadata": {},
   "outputs": [],
   "source": [
    "pipeline.list_versions()"
   ]
  },
  {
   "cell_type": "code",
   "execution_count": null,
   "id": "78c234d2",
   "metadata": {},
   "outputs": [],
   "source": [
    "pipeline.load_model_from_hub(run='run_2025-06-23_19-12-13',\n",
    "                             epoch=49)\n",
    "pipeline.set_num_class_embeds(len(dataloader.vocab))"
   ]
  },
  {
   "cell_type": "code",
   "execution_count": null,
   "id": "846dfecc",
   "metadata": {},
   "outputs": [],
   "source": [
    "import torch\n",
    "import torchvision\n",
    "from torchvision.utils import make_grid\n",
    "\n",
    "def show_image_grid(input_images, output_images, target_images):\n",
    "    output_images = (output_images * 0.5 + 0.5).clamp(0, 1).cpu()\n",
    "    input_images = (input_images * 0.5 + 0.5).clamp(0, 1).cpu()\n",
    "    target_images = (target_images * 0.5  + 0.5).clamp(0, 1).cpu()\n",
    "    concat = torch.concat([input_images, output_images, target_images])\n",
    "    grid = make_grid(concat, nrow=input_images.shape[0])\n",
    "    img = torchvision.transforms.ToPILImage()(grid)\n",
    "    display(img)\n"
   ]
  },
  {
   "cell_type": "code",
   "execution_count": null,
   "id": "6a363286",
   "metadata": {},
   "outputs": [],
   "source": [
    "for batch in dataloader:\n",
    "    input_images = batch['input']\n",
    "    target_images = batch['target']\n",
    "    labels = batch['label']\n",
    "    outputs = pipeline(input_images=input_images, \n",
    "                       class_labels=labels,\n",
    "                       num_inference_steps=50)\n",
    "    show_image_grid(input_images, outputs, target_images)\n",
    "    break    "
   ]
  }
 ],
 "metadata": {
  "kernelspec": {
   "display_name": "base",
   "language": "python",
   "name": "python3"
  },
  "language_info": {
   "codemirror_mode": {
    "name": "ipython",
    "version": 3
   },
   "file_extension": ".py",
   "mimetype": "text/x-python",
   "name": "python",
   "nbconvert_exporter": "python",
   "pygments_lexer": "ipython3",
   "version": "3.10.13"
  }
 },
 "nbformat": 4,
 "nbformat_minor": 5
}
