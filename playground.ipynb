{
 "cells": [
  {
   "cell_type": "code",
   "execution_count": null,
   "id": "4c5e4526",
   "metadata": {},
   "outputs": [],
   "source": [
    "from layer_diffuse.data_loaders import ModularCharatersDataLoader\n",
    "from layer_diffuse.models import DDIMNextTokenV1_Refactored\n",
    "import json\n",
    "pipeline = DDIMNextTokenV1_Refactored.DDIMNextTokenV1PipelineRefactored()\n",
    "vocab_file = \"layer_diffuse/vocab.json\"\n",
    "with open(vocab_file, 'r') as f:\n",
    "    vocab = json.load(f)\n",
    "dataloader = ModularCharatersDataLoader.get_modular_char_dataloader(dataset_name='QLeca/modular_characters_v3',\n",
    "                                                                            split='train',\n",
    "                                                                            image_size=128,\n",
    "                                                                            batch_size=8,\n",
    "                                                                            shuffle=True,\n",
    "                                                                            streaming=True,\n",
    "                                                                            conversionRGBA=True,\n",
    "                                                                            vocab=vocab)"
   ]
  },
  {
   "cell_type": "code",
   "execution_count": null,
   "id": "98949da5",
   "metadata": {},
   "outputs": [],
   "source": [
    "pipeline.list_versions()"
   ]
  },
  {
   "cell_type": "code",
   "execution_count": null,
   "id": "78c234d2",
   "metadata": {},
   "outputs": [],
   "source": [
    "pipeline.load_model_from_hub(run='run_2025-06-23_19-12-13',\n",
    "                             epoch=49)\n",
    "pipeline.set_num_class_embeds(len(dataloader.vocab))"
   ]
  },
  {
   "cell_type": "code",
   "execution_count": null,
   "id": "846dfecc",
   "metadata": {},
   "outputs": [],
   "source": [
    "import torch\n",
    "import torchvision\n",
    "from torchvision.utils import make_grid\n",
    "\n",
    "def show_image_grid(input_images, output_images, target_images):\n",
    "    output_images = (output_images * 0.5 + 0.5).clamp(0, 1).cpu()\n",
    "    input_images = (input_images * 0.5 + 0.5).clamp(0, 1).cpu()\n",
    "    target_images = (target_images * 0.5  + 0.5).clamp(0, 1).cpu()\n",
    "    concat = torch.concat([input_images, output_images, target_images])\n",
    "    grid = make_grid(concat, nrow=input_images.shape[0])\n",
    "    img = torchvision.transforms.ToPILImage()(grid)\n",
    "    display(img)\n"
   ]
  },
  {
   "cell_type": "code",
   "execution_count": null,
   "id": "6a363286",
   "metadata": {},
   "outputs": [],
   "source": [
    "for batch in dataloader:\n",
    "    input_images = batch['input']\n",
    "    target_images = batch['target']\n",
    "    labels = batch['label']\n",
    "    outputs = pipeline(input_images=input_images, \n",
    "                       class_labels=labels,\n",
    "                       num_inference_steps=50)\n",
    "    show_image_grid(input_images, outputs, target_images)\n",
    "    break    "
   ]
  },
  {
   "cell_type": "code",
   "execution_count": null,
   "id": "a26c0338",
   "metadata": {},
   "outputs": [],
   "source": [
    "# Test the log_resume_info function\n",
    "import wandb\n",
    "import os\n",
    "from layer_diffuse.models import DDIMNextTokenV1_Refactored\n",
    "\n",
    "# # Initialize a test wandb run first\n",
    "# wandb.init(\n",
    "#     project=\"test_resume_info\",\n",
    "#     name=\"test_log_resume_info\",\n",
    "#     mode=\"offline\"  # Use offline mode for testing to avoid creating actual wandb runs\n",
    "# )\n",
    "\n",
    "print(\"Testing log_resume_info function...\")\n",
    "\n",
    "# Test case 1: Test with a known run name that exists\n",
    "test_run_name = \"run_2025-06-24_12-04-24\"\n",
    "test_epoch = 41\n",
    "\n",
    "# Create the pipeline instance\n",
    "pipeline = DDIMNextTokenV1_Refactored.DDIMNextTokenV1PipelineRefactored()\n"
   ]
  },
  {
   "cell_type": "code",
   "execution_count": null,
   "id": "526a647e",
   "metadata": {},
   "outputs": [],
   "source": [
    "from layer_diffuse.models.DDIMNextTokenV1_Refactored import DDIMNextTokenV1PipelineRefactored\n",
    "pipeline = DDIMNextTokenV1PipelineRefactored()"
   ]
  },
  {
   "cell_type": "code",
   "execution_count": null,
   "id": "f3d7d2ca",
   "metadata": {},
   "outputs": [],
   "source": [
    "import json\n",
    "from layer_diffuse.data_loaders import ModularCharatersDataLoader\n",
    "from datasets import load_dataset\n",
    "from PIL import Image\n",
    "from torchvision import transforms\n",
    "import torch\n",
    "from datasets.iterable_dataset import IterableDataset\n",
    "\n",
    "vocab_file = \"layer_diffuse/vocab.json\"\n",
    "dataset_name = 'QLeca/modular_characters_v3'\n",
    "split = 'train'\n",
    "streaming = True\n",
    "conversionRGBA = True\n",
    "image_size = 128\n",
    "with open(vocab_file, 'r') as f:\n",
    "    vocab = json.load(f)\n",
    "    \n",
    "dataset = load_dataset(dataset_name, split=split, cache_dir='cache/datasets', streaming=streaming)\n",
    "assert isinstance(vocab, dict), \"Vocab should be a dictionary mapping prompts to indices.\"\n",
    "preprocess = transforms.Compose(\n",
    "        [\n",
    "            transforms.Resize((image_size, image_size)),\n",
    "            # transforms.RandomHorizontalFlip(),\n",
    "            transforms.ToTensor(),\n",
    "            transforms.Normalize([0.5], [0.5]),\n",
    "        ]\n",
    "    )\n",
    "\n",
    "def transform(rows:dict)->dict:\n",
    "    # Convert RGBA images to RGB with white background\n",
    "    def rgba_to_rgb_white(img):\n",
    "        if img.mode == 'RGBA' and conversionRGBA:\n",
    "            background = Image.new('RGB', img.size, (255, 255, 255))\n",
    "            background.paste(img, mask=img.split()[3])  # 3 is the alpha channel\n",
    "            return background\n",
    "        return img\n",
    "\n",
    "    rows['input'] = [rgba_to_rgb_white(image) for image in rows['input']]\n",
    "    rows['target'] = [rgba_to_rgb_white(image) for image in rows['target']]\n",
    "    images_input = [preprocess(image) for image in rows['input']]\n",
    "    images_target = [preprocess(image) for image in rows['target']]\n",
    "    class_labels = [torch.tensor(vocab.get(prompt,-1),dtype=torch.long).unsqueeze(0) for prompt in rows['prompt']]\n",
    "    return {'input': images_input,\n",
    "            'target': images_target,\n",
    "            'label': class_labels}\n",
    "\n",
    "if isinstance(dataset, IterableDataset):\n",
    "    dataset = dataset.map(transform, batched=True, remove_columns=['prompt']) # type: ignore"
   ]
  },
  {
   "cell_type": "code",
   "execution_count": null,
   "id": "4f7d4076",
   "metadata": {},
   "outputs": [],
   "source": [
    "train_dataloader = ModularCharatersDataLoader.get_modular_char_dataloader(\n",
    "        dataset_name=dataset_name,\n",
    "        split=split,\n",
    "        image_size=pipeline.train_config.image_size,\n",
    "        batch_size=pipeline.train_config.train_batch_size,\n",
    "        shuffle=True,\n",
    "        num_workers=0,\n",
    "        pin_memory=True,\n",
    "        persistent_workers=False,\n",
    "        streaming=streaming,\n",
    "        conversionRGBA=True,\n",
    "        vocab=vocab,  # Pass the vocabulary if provided\n",
    "    )"
   ]
  },
  {
   "cell_type": "code",
   "execution_count": null,
   "id": "5654e2b8",
   "metadata": {},
   "outputs": [],
   "source": [
    "extra_kwargs = {\n",
    "        \"num_cycles\": 0.5,  # Pass the num_cycles parameter\n",
    "        \"train_tags\": 'DEBUG',  # Pass the train_tags parameter\n",
    "        \"gradient_accumulation_steps\": 4,\n",
    "        \"mixed_precision\": \"fp16\",\n",
    "        \"dataloader_num_workers\": 0,\n",
    "    }"
   ]
  },
  {
   "cell_type": "code",
   "execution_count": null,
   "id": "c674dbf4",
   "metadata": {},
   "outputs": [],
   "source": [
    "pipeline.train_accelerate(\n",
    "            train_dataloader=train_dataloader,\n",
    "            val_dataloader=train_dataloader,\n",
    "            train_size=1000,\n",
    "            val_size=100,\n",
    "            **extra_kwargs,  # Pass all extra parameters through\n",
    "        )"
   ]
  }
 ],
 "metadata": {
  "kernelspec": {
   "display_name": "base",
   "language": "python",
   "name": "python3"
  },
  "language_info": {
   "codemirror_mode": {
    "name": "ipython",
    "version": 3
   },
   "file_extension": ".py",
   "mimetype": "text/x-python",
   "name": "python",
   "nbconvert_exporter": "python",
   "pygments_lexer": "ipython3",
   "version": "3.10.13"
  }
 },
 "nbformat": 4,
 "nbformat_minor": 5
}
