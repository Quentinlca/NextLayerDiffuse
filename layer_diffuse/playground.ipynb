{
 "cells": [
  {
   "cell_type": "code",
   "execution_count": null,
   "id": "d8dc0438",
   "metadata": {},
   "outputs": [],
   "source": [
    "from data_loaders import ModularCharatersDataLoader\n",
    "from models import DDPMNextTokenV2"
   ]
  },
  {
   "cell_type": "code",
   "execution_count": null,
   "id": "4c5e4526",
   "metadata": {},
   "outputs": [],
   "source": [
    "pipeline = DDPMNextTokenV2.DDPMNextTokenV2Pipeline()\n",
    "\n",
    "dataloader = ModularCharatersDataLoader.get_modular_char_dataloader(dataset_name='QLeca/modular_characters_small',\n",
    "                                                                            split='train',\n",
    "                                                                            image_size=pipeline.train_config.image_size,\n",
    "                                                                            batch_size=8,\n",
    "                                                                            shuffle=True)"
   ]
  },
  {
   "cell_type": "code",
   "execution_count": null,
   "id": "98949da5",
   "metadata": {},
   "outputs": [],
   "source": [
    "pipeline.list_versions()"
   ]
  },
  {
   "cell_type": "code",
   "execution_count": null,
   "id": "78c234d2",
   "metadata": {},
   "outputs": [],
   "source": [
    "pipeline.load_model_from_hub(run='run_2025-06-19_14-12-46',\n",
    "                             epoch=5)\n",
    "pipeline.set_num_class_embeds(len(dataloader.vocab))"
   ]
  },
  {
   "cell_type": "code",
   "execution_count": null,
   "id": "6a363286",
   "metadata": {},
   "outputs": [],
   "source": [
    "for batch in dataloader:\n",
    "    input_images = batch['input']\n",
    "    target_images = batch['target']\n",
    "    labels = batch['label']\n",
    "    outputs = pipeline(input_images=input_images, \n",
    "                       class_labels=labels,\n",
    "                       num_inference_steps=1000)\n",
    "    break    \n",
    "    \n",
    "    \n",
    "    "
   ]
  },
  {
   "cell_type": "code",
   "execution_count": null,
   "id": "846dfecc",
   "metadata": {},
   "outputs": [],
   "source": [
    "import torch\n",
    "import torchvision\n",
    "from torchvision.utils import make_grid\n",
    "\n",
    "output_images = (outputs * 0.5 + 0.5).clamp(0, 1).cpu()\n",
    "        \n",
    "input_images = (input_images * 0.5 + 0.5).clamp(0, 1).cpu()\n",
    "\n",
    "target_images = (target_images * 0.5  + 0.5).clamp(0, 1).cpu()\n",
    "\n",
    "concat = torch.concat([input_images, output_images, target_images])\n",
    "grid = make_grid(concat, nrow=input_images.shape[0])\n",
    "img = torchvision.transforms.ToPILImage()(grid)"
   ]
  },
  {
   "cell_type": "code",
   "execution_count": null,
   "id": "559488a9",
   "metadata": {},
   "outputs": [],
   "source": [
    "display(img)"
   ]
  }
 ],
 "metadata": {
  "kernelspec": {
   "display_name": "base",
   "language": "python",
   "name": "python3"
  },
  "language_info": {
   "codemirror_mode": {
    "name": "ipython",
    "version": 3
   },
   "file_extension": ".py",
   "mimetype": "text/x-python",
   "name": "python",
   "nbconvert_exporter": "python",
   "pygments_lexer": "ipython3",
   "version": "3.11.3"
  }
 },
 "nbformat": 4,
 "nbformat_minor": 5
}
