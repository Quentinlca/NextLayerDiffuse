{
 "cells": [
  {
   "cell_type": "code",
   "execution_count": null,
   "id": "dbc28242",
   "metadata": {},
   "outputs": [],
   "source": [
    "from data_loaders import ModularCharatersDataLoader\n",
    "from models import DDPMNextTokenV2\n",
    "from datasets import load_dataset\n",
    "\n",
    "\n",
    "\n",
    "train_dataloader = ModularCharatersDataLoader.get_modular_char_dataloader(dataset_name='QLeca/modular_characters_small',\n",
    "                                                                            split='train',\n",
    "                                                                            image_size=128,\n",
    "                                                                            batch_size=16,\n",
    "                                                                            shuffle=True)\n",
    "dataset = load_dataset('QLeca/modular_characters_small', \n",
    "                       split='train')\n",
    "\n",
    "prompts = dataset['prompt']\n",
    "vocab = list(dict.fromkeys(prompts))\n",
    "vocab = sorted(vocab)\n",
    "vocab = dict(zip(vocab, range(len(vocab))))\n",
    "pipeline = DDPMNextTokenV2.DDPMNextTokenV2Pipeline()\n",
    "pipeline.set_class_vocabulary(vocab.keys())\n",
    "  "
   ]
  },
  {
   "cell_type": "code",
   "execution_count": null,
   "id": "20c7d96d",
   "metadata": {},
   "outputs": [],
   "source": [
    "import torch\n",
    "\n",
    "def get_class_labels(prompts:list[str]) -> torch.Tensor:\n",
    "    class_labels = []\n",
    "    for prompt in prompts:\n",
    "        if prompt in vocab:\n",
    "            class_labels.append(vocab[prompt])\n",
    "        else:\n",
    "            class_labels.append(-1)  # Use -1 for unknown classes\n",
    "    return torch.tensor(class_labels, dtype=torch.long)\n",
    "\n",
    "\n",
    "for batch in train_dataloader:\n",
    "    input_images = batch['input']\n",
    "    target_images = batch['target']\n",
    "    prompts = batch['prompt']\n",
    "    labels = get_class_labels(prompts).unsqueeze(1)  # Add a dimension for class labels\n",
    "    print(labels.shape)\n",
    "    outputs = pipeline(input_images=input_images,\n",
    "                       class_labels=labels)\n",
    "    \n",
    "    break  # Just run one batch for demonstration purposes"
   ]
  },
  {
   "cell_type": "code",
   "execution_count": null,
   "id": "ee287956",
   "metadata": {},
   "outputs": [],
   "source": []
  }
 ],
 "metadata": {
  "kernelspec": {
   "display_name": "base",
   "language": "python",
   "name": "python3"
  },
  "language_info": {
   "codemirror_mode": {
    "name": "ipython",
    "version": 3
   },
   "file_extension": ".py",
   "mimetype": "text/x-python",
   "name": "python",
   "nbconvert_exporter": "python",
   "pygments_lexer": "ipython3",
   "version": "3.10.13"
  }
 },
 "nbformat": 4,
 "nbformat_minor": 5
}
