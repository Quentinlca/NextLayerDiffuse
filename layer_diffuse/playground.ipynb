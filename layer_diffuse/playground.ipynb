{
 "cells": [
  {
   "cell_type": "markdown",
   "id": "8e12f283",
   "metadata": {},
   "source": [
    "### Import and process dataset"
   ]
  },
  {
   "cell_type": "code",
   "execution_count": 1,
   "id": "c707e336",
   "metadata": {},
   "outputs": [],
   "source": [
    "from dataclasses import dataclass\n",
    "\n",
    "@dataclass\n",
    "class TrainingConfig:\n",
    "    image_size = 128  # the generated image resolution\n",
    "    train_batch_size = 16\n",
    "    eval_batch_size = 16  # how many images to sample during evaluation\n",
    "    num_epochs = 50\n",
    "    gradient_accumulation_steps = 1\n",
    "    learning_rate = 1e-4\n",
    "    lr_warmup_steps = 500\n",
    "    save_image_epochs = 10\n",
    "    save_model_epochs = 30\n",
    "    mixed_precision = \"fp16\"  # `no` for float32, `fp16` for automatic mixed precision\n",
    "    output_dir = \"training_output\"  # the model name locally and on the HF Hub\n",
    "\n",
    "    push_to_hub = True  # whether to upload the saved model to the HF Hub\n",
    "    hub_model_id = \"QLeca/NextLayerModularCharacterModel\"  # the name of the repository to create on the HF Hub\n",
    "    hub_private_repo = None\n",
    "    overwrite_output_dir = True  # overwrite the old model when re-running the notebook\n",
    "    seed = 0\n",
    "\n",
    "\n",
    "config = TrainingConfig()"
   ]
  },
  {
   "cell_type": "code",
   "execution_count": null,
   "id": "14c09ed2",
   "metadata": {},
   "outputs": [
    {
     "data": {
      "application/vnd.jupyter.widget-view+json": {
       "model_id": "6404a15c5a5e47b2ae3bd6d4ba060285",
       "version_major": 2,
       "version_minor": 0
      },
      "text/plain": [
       "README.md:   0%|          | 0.00/471 [00:00<?, ?B/s]"
      ]
     },
     "metadata": {},
     "output_type": "display_data"
    },
    {
     "name": "stderr",
     "output_type": "stream",
     "text": [
      "d:\\Programmes\\miniconda3\\lib\\site-packages\\huggingface_hub\\file_download.py:143: UserWarning: `huggingface_hub` cache-system uses symlinks by default to efficiently store duplicated files but your machine does not support them in C:\\Users\\quent\\.cache\\huggingface\\hub\\datasets--QLeca--modular_characters. Caching files will still work but in a degraded version that might require more space on your disk. This warning can be disabled by setting the `HF_HUB_DISABLE_SYMLINKS_WARNING` environment variable. For more details, see https://huggingface.co/docs/huggingface_hub/how-to-cache#limitations.\n",
      "To support symlinks on Windows, you either need to activate Developer Mode or to run Python as an administrator. In order to activate developer mode, see this article: https://docs.microsoft.com/en-us/windows/apps/get-started/enable-your-device-for-development\n",
      "  warnings.warn(message)\n"
     ]
    },
    {
     "data": {
      "application/vnd.jupyter.widget-view+json": {
       "model_id": "cc1a01de916c4b4283b66b8c6b2f845f",
       "version_major": 2,
       "version_minor": 0
      },
      "text/plain": [
       "Resolving data files:   0%|          | 0/62 [00:00<?, ?it/s]"
      ]
     },
     "metadata": {},
     "output_type": "display_data"
    },
    {
     "data": {
      "application/vnd.jupyter.widget-view+json": {
       "model_id": "76383f1a4eb94ba7b6b7b3dff67d6b55",
       "version_major": 2,
       "version_minor": 0
      },
      "text/plain": [
       "Resolving data files:   0%|          | 0/62 [00:00<?, ?it/s]"
      ]
     },
     "metadata": {},
     "output_type": "display_data"
    },
    {
     "data": {
      "application/vnd.jupyter.widget-view+json": {
       "model_id": "3d1ac747b1734b12b092650ae0639a4c",
       "version_major": 2,
       "version_minor": 0
      },
      "text/plain": [
       "Downloading data:   0%|          | 0/62 [00:00<?, ?files/s]"
      ]
     },
     "metadata": {},
     "output_type": "display_data"
    },
    {
     "data": {
      "application/vnd.jupyter.widget-view+json": {
       "model_id": "ef35820d292a4802ad1ff917c84faa7e",
       "version_major": 2,
       "version_minor": 0
      },
      "text/plain": [
       "train-00000-of-00062.parquet:   0%|          | 0.00/406M [00:00<?, ?B/s]"
      ]
     },
     "metadata": {},
     "output_type": "display_data"
    },
    {
     "data": {
      "application/vnd.jupyter.widget-view+json": {
       "model_id": "4001179fd95f46b29b29fb5037428bc0",
       "version_major": 2,
       "version_minor": 0
      },
      "text/plain": [
       "train-00001-of-00062.parquet:   0%|          | 0.00/406M [00:00<?, ?B/s]"
      ]
     },
     "metadata": {},
     "output_type": "display_data"
    },
    {
     "data": {
      "application/vnd.jupyter.widget-view+json": {
       "model_id": "a31da0f563a24965be4370bf81ac8e53",
       "version_major": 2,
       "version_minor": 0
      },
      "text/plain": [
       "train-00002-of-00062.parquet:   0%|          | 0.00/407M [00:00<?, ?B/s]"
      ]
     },
     "metadata": {},
     "output_type": "display_data"
    },
    {
     "data": {
      "application/vnd.jupyter.widget-view+json": {
       "model_id": "cf903cca9f344fb58b1a3242a8218e9e",
       "version_major": 2,
       "version_minor": 0
      },
      "text/plain": [
       "train-00003-of-00062.parquet:   0%|          | 0.00/406M [00:00<?, ?B/s]"
      ]
     },
     "metadata": {},
     "output_type": "display_data"
    },
    {
     "data": {
      "application/vnd.jupyter.widget-view+json": {
       "model_id": "785764d7c4724c64a09b581ddb3048e6",
       "version_major": 2,
       "version_minor": 0
      },
      "text/plain": [
       "train-00004-of-00062.parquet:   0%|          | 0.00/407M [00:00<?, ?B/s]"
      ]
     },
     "metadata": {},
     "output_type": "display_data"
    },
    {
     "data": {
      "application/vnd.jupyter.widget-view+json": {
       "model_id": "fd025ded12414261b30ac7567fd6de59",
       "version_major": 2,
       "version_minor": 0
      },
      "text/plain": [
       "train-00005-of-00062.parquet:   0%|          | 0.00/406M [00:00<?, ?B/s]"
      ]
     },
     "metadata": {},
     "output_type": "display_data"
    },
    {
     "data": {
      "application/vnd.jupyter.widget-view+json": {
       "model_id": "b49f7282a4fd4b83a82321ecf29424ad",
       "version_major": 2,
       "version_minor": 0
      },
      "text/plain": [
       "train-00006-of-00062.parquet:   0%|          | 0.00/407M [00:00<?, ?B/s]"
      ]
     },
     "metadata": {},
     "output_type": "display_data"
    },
    {
     "data": {
      "application/vnd.jupyter.widget-view+json": {
       "model_id": "cb8613fac2ef42659d9d6623c2953942",
       "version_major": 2,
       "version_minor": 0
      },
      "text/plain": [
       "train-00007-of-00062.parquet:   0%|          | 0.00/407M [00:00<?, ?B/s]"
      ]
     },
     "metadata": {},
     "output_type": "display_data"
    },
    {
     "data": {
      "application/vnd.jupyter.widget-view+json": {
       "model_id": "6c2813acc6224e4a90d7d0e4577c1290",
       "version_major": 2,
       "version_minor": 0
      },
      "text/plain": [
       "train-00008-of-00062.parquet:   0%|          | 0.00/407M [00:00<?, ?B/s]"
      ]
     },
     "metadata": {},
     "output_type": "display_data"
    },
    {
     "data": {
      "application/vnd.jupyter.widget-view+json": {
       "model_id": "49cab907ff1d4b3fa034c2671c812843",
       "version_major": 2,
       "version_minor": 0
      },
      "text/plain": [
       "train-00009-of-00062.parquet:   0%|          | 0.00/407M [00:00<?, ?B/s]"
      ]
     },
     "metadata": {},
     "output_type": "display_data"
    },
    {
     "data": {
      "application/vnd.jupyter.widget-view+json": {
       "model_id": "70333a04cdb14b51a3d517cae6b2f6e2",
       "version_major": 2,
       "version_minor": 0
      },
      "text/plain": [
       "train-00010-of-00062.parquet:   0%|          | 0.00/406M [00:00<?, ?B/s]"
      ]
     },
     "metadata": {},
     "output_type": "display_data"
    },
    {
     "data": {
      "application/vnd.jupyter.widget-view+json": {
       "model_id": "31eeb4675470439b8e1fdae0fc633ec5",
       "version_major": 2,
       "version_minor": 0
      },
      "text/plain": [
       "train-00011-of-00062.parquet:   0%|          | 0.00/406M [00:00<?, ?B/s]"
      ]
     },
     "metadata": {},
     "output_type": "display_data"
    },
    {
     "data": {
      "application/vnd.jupyter.widget-view+json": {
       "model_id": "6338b4d0cc4f431cbd4c2ba2b27ea2dc",
       "version_major": 2,
       "version_minor": 0
      },
      "text/plain": [
       "train-00012-of-00062.parquet:   0%|          | 0.00/407M [00:00<?, ?B/s]"
      ]
     },
     "metadata": {},
     "output_type": "display_data"
    },
    {
     "data": {
      "application/vnd.jupyter.widget-view+json": {
       "model_id": "62d7a26f501c4970a435570b9a6d15d4",
       "version_major": 2,
       "version_minor": 0
      },
      "text/plain": [
       "train-00013-of-00062.parquet:   0%|          | 0.00/407M [00:00<?, ?B/s]"
      ]
     },
     "metadata": {},
     "output_type": "display_data"
    },
    {
     "data": {
      "application/vnd.jupyter.widget-view+json": {
       "model_id": "ccfb706e420c49eaa73c0d2f731401a9",
       "version_major": 2,
       "version_minor": 0
      },
      "text/plain": [
       "train-00014-of-00062.parquet:   0%|          | 0.00/408M [00:00<?, ?B/s]"
      ]
     },
     "metadata": {},
     "output_type": "display_data"
    },
    {
     "data": {
      "application/vnd.jupyter.widget-view+json": {
       "model_id": "5a8226f58a844147a3e310962402b725",
       "version_major": 2,
       "version_minor": 0
      },
      "text/plain": [
       "train-00015-of-00062.parquet:   0%|          | 0.00/408M [00:00<?, ?B/s]"
      ]
     },
     "metadata": {},
     "output_type": "display_data"
    },
    {
     "data": {
      "application/vnd.jupyter.widget-view+json": {
       "model_id": "f7ea953acc384d9096fa0e3b12e6307c",
       "version_major": 2,
       "version_minor": 0
      },
      "text/plain": [
       "train-00016-of-00062.parquet:   0%|          | 0.00/408M [00:00<?, ?B/s]"
      ]
     },
     "metadata": {},
     "output_type": "display_data"
    },
    {
     "data": {
      "application/vnd.jupyter.widget-view+json": {
       "model_id": "b632e5bf3e3d464ab2e081a1302d6b60",
       "version_major": 2,
       "version_minor": 0
      },
      "text/plain": [
       "train-00017-of-00062.parquet:   0%|          | 0.00/407M [00:00<?, ?B/s]"
      ]
     },
     "metadata": {},
     "output_type": "display_data"
    },
    {
     "data": {
      "application/vnd.jupyter.widget-view+json": {
       "model_id": "d7cf6045a35e45c6ba60e242eb8cceaa",
       "version_major": 2,
       "version_minor": 0
      },
      "text/plain": [
       "train-00018-of-00062.parquet:   0%|          | 0.00/407M [00:00<?, ?B/s]"
      ]
     },
     "metadata": {},
     "output_type": "display_data"
    },
    {
     "data": {
      "application/vnd.jupyter.widget-view+json": {
       "model_id": "7b737dbc1b72465682d81f1ac8d66303",
       "version_major": 2,
       "version_minor": 0
      },
      "text/plain": [
       "train-00019-of-00062.parquet:   0%|          | 0.00/406M [00:00<?, ?B/s]"
      ]
     },
     "metadata": {},
     "output_type": "display_data"
    },
    {
     "data": {
      "application/vnd.jupyter.widget-view+json": {
       "model_id": "7fd3ba57fafd47d7b562478522d0878a",
       "version_major": 2,
       "version_minor": 0
      },
      "text/plain": [
       "train-00020-of-00062.parquet:   0%|          | 0.00/416M [00:00<?, ?B/s]"
      ]
     },
     "metadata": {},
     "output_type": "display_data"
    },
    {
     "data": {
      "application/vnd.jupyter.widget-view+json": {
       "model_id": "e64bb8c8aadd457fb2c346b7e858fab4",
       "version_major": 2,
       "version_minor": 0
      },
      "text/plain": [
       "train-00021-of-00062.parquet:   0%|          | 0.00/421M [00:00<?, ?B/s]"
      ]
     },
     "metadata": {},
     "output_type": "display_data"
    },
    {
     "data": {
      "application/vnd.jupyter.widget-view+json": {
       "model_id": "79e493c4c5444c3b8dfcfd2b38ec6ea3",
       "version_major": 2,
       "version_minor": 0
      },
      "text/plain": [
       "train-00022-of-00062.parquet:   0%|          | 0.00/420M [00:00<?, ?B/s]"
      ]
     },
     "metadata": {},
     "output_type": "display_data"
    },
    {
     "data": {
      "application/vnd.jupyter.widget-view+json": {
       "model_id": "588fda0f8e7a489e9f0518fc74353b92",
       "version_major": 2,
       "version_minor": 0
      },
      "text/plain": [
       "train-00023-of-00062.parquet:   0%|          | 0.00/421M [00:00<?, ?B/s]"
      ]
     },
     "metadata": {},
     "output_type": "display_data"
    },
    {
     "data": {
      "application/vnd.jupyter.widget-view+json": {
       "model_id": "80f4e79f1b7447399dd60d7247e423f8",
       "version_major": 2,
       "version_minor": 0
      },
      "text/plain": [
       "train-00024-of-00062.parquet:   0%|          | 0.00/421M [00:00<?, ?B/s]"
      ]
     },
     "metadata": {},
     "output_type": "display_data"
    }
   ],
   "source": [
    "from datasets import load_dataset\n",
    "\n",
    "config.dataset_name = \"QLeca/modular_characters\"\n",
    "dataset = load_dataset(config.dataset_name, split=\"train\")"
   ]
  },
  {
   "cell_type": "code",
   "execution_count": null,
   "id": "494ae52b",
   "metadata": {},
   "outputs": [],
   "source": [
    "import matplotlib.pyplot as plt\n",
    "\n",
    "fig, axs = plt.subplots(4, 4, figsize=(16, 4))\n",
    "for i in range(4):\n",
    "    input_image = dataset[i]['input']\n",
    "    target_image = dataset[i]['target']\n",
    "    prompt = dataset[i]['prompt']\n",
    "    \n",
    "    axs[i][0].imshow(input_image)\n",
    "    axs[i][0].set_axis_off()\n",
    "    axs[i][1].imshow(target_image)\n",
    "    axs[i][1].set_axis_off()\n",
    "    print(prompt)\n",
    "fig.show()\n"
   ]
  },
  {
   "cell_type": "code",
   "execution_count": null,
   "id": "0f52f62b",
   "metadata": {},
   "outputs": [],
   "source": [
    "from torchvision import transforms\n",
    "\n",
    "preprocess = transforms.Compose(\n",
    "    [\n",
    "        transforms.Resize((config.image_size, config.image_size)),\n",
    "        transforms.RandomHorizontalFlip(),\n",
    "        transforms.ToTensor(),\n",
    "        transforms.Normalize([0.5], [0.5]),\n",
    "    ]\n",
    ")"
   ]
  },
  {
   "cell_type": "code",
   "execution_count": null,
   "id": "83d38198",
   "metadata": {},
   "outputs": [],
   "source": [
    "def transform(rows):\n",
    "    images_input = [preprocess(image) for image in rows[\"input\"]]\n",
    "    images_target = [preprocess(image) for image in rows[\"target\"]]\n",
    "    \n",
    "    return {\"input\": images_input,\n",
    "            'target': images_target,\n",
    "            'prompt': rows['prompt']}\n",
    "\n",
    "\n",
    "dataset.set_transform(transform)"
   ]
  },
  {
   "cell_type": "code",
   "execution_count": null,
   "id": "f696b791",
   "metadata": {},
   "outputs": [],
   "source": [
    "import torch\n",
    "train_dataloader = torch.utils.data.DataLoader(dataset, batch_size=config.train_batch_size, shuffle=True)"
   ]
  },
  {
   "cell_type": "markdown",
   "id": "39154780",
   "metadata": {},
   "source": [
    "### Create U-Net Model"
   ]
  },
  {
   "cell_type": "code",
   "execution_count": null,
   "id": "9c69915d",
   "metadata": {},
   "outputs": [],
   "source": [
    "from diffusers import UNet2DModel\n",
    "\n",
    "model = UNet2DModel(\n",
    "    sample_size=config.image_size,  # the target image resolution\n",
    "    in_channels=4,  # the number of input channels, 3 for RGBA images\n",
    "    out_channels=4,  # the number of output channels\n",
    "    layers_per_block=2,  # how many ResNet layers to use per UNet block\n",
    "    block_out_channels=(128, 128, 256, 256, 512, 512),  # the number of output channels for each UNet block\n",
    "    down_block_types=(\n",
    "        \"DownBlock2D\",  # a regular ResNet downsampling block\n",
    "        \"DownBlock2D\",\n",
    "        \"DownBlock2D\",\n",
    "        \"DownBlock2D\",\n",
    "        \"AttnDownBlock2D\",  # a ResNet downsampling block with spatial self-attention\n",
    "        \"DownBlock2D\",\n",
    "    ),\n",
    "    up_block_types=(\n",
    "        \"UpBlock2D\",  # a regular ResNet upsampling block\n",
    "        \"AttnUpBlock2D\",  # a ResNet upsampling block with spatial self-attention\n",
    "        \"UpBlock2D\",\n",
    "        \"UpBlock2D\",\n",
    "        \"UpBlock2D\",\n",
    "        \"UpBlock2D\",\n",
    "    ),\n",
    ")"
   ]
  }
 ],
 "metadata": {
  "kernelspec": {
   "display_name": "base",
   "language": "python",
   "name": "python3"
  },
  "language_info": {
   "codemirror_mode": {
    "name": "ipython",
    "version": 3
   },
   "file_extension": ".py",
   "mimetype": "text/x-python",
   "name": "python",
   "nbconvert_exporter": "python",
   "pygments_lexer": "ipython3",
   "version": "3.10.13"
  }
 },
 "nbformat": 4,
 "nbformat_minor": 5
}
