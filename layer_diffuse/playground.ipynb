{
 "cells": [
  {
   "cell_type": "markdown",
   "id": "8e12f283",
   "metadata": {},
   "source": [
    "### Import and process dataset"
   ]
  },
  {
   "cell_type": "code",
   "execution_count": null,
   "id": "dcb461b6",
   "metadata": {},
   "outputs": [],
   "source": [
    "import torch\n",
    "import torchvision\n",
    "import torch.nn as nn\n",
    "import torch.nn.functional as F\n",
    "import argparse\n",
    "import yaml\n",
    "import os\n",
    "from torchvision.utils import make_grid\n",
    "from tqdm import tqdm\n",
    "import numpy as np\n",
    "\n",
    "\n",
    "\n",
    "device = torch.device('cuda' if torch.cuda.is_available() else 'cpu')\n",
    "torch.cuda.empty_cache()"
   ]
  },
  {
   "cell_type": "code",
   "execution_count": null,
   "id": "c707e336",
   "metadata": {},
   "outputs": [],
   "source": [
    "from dataclasses import dataclass\n",
    "\n",
    "@dataclass\n",
    "class TrainingConfig:\n",
    "    image_size = 128  # the generated image resolution\n",
    "    train_batch_size = 16\n",
    "    eval_batch_size = 16  # how many images to sample during evaluation\n",
    "    num_epochs = 50\n",
    "    gradient_accumulation_steps = 1\n",
    "    learning_rate = 1e-4\n",
    "    lr_warmup_steps = 500\n",
    "    save_image_epochs = 10\n",
    "    save_model_epochs = 30\n",
    "    mixed_precision = \"fp16\"  # `no` for float32, `fp16` for automatic mixed precision\n",
    "    output_dir = \"training_output\"  # the model name locally and on the HF Hub\n",
    "\n",
    "    push_to_hub = True  # whether to upload the saved model to the HF Hub\n",
    "    hub_model_id = \"QLeca/NextLayerModularCharacterModel\"  # the name of the repository to create on the HF Hub\n",
    "    hub_private_repo = None\n",
    "    overwrite_output_dir = True  # overwrite the old model when re-running the notebook\n",
    "    seed = 0\n",
    "\n",
    "\n",
    "config = TrainingConfig()"
   ]
  },
  {
   "cell_type": "code",
   "execution_count": null,
   "id": "14c09ed2",
   "metadata": {},
   "outputs": [],
   "source": [
    "from datasets import load_dataset\n",
    "\n",
    "config.dataset_name = \"QLeca/modular_characters\"\n",
    "vals_ds = load_dataset(config.dataset_name, split=f'train[0%:1%]')\n",
    "trains_ds = load_dataset(config.dataset_name, split=f'train[1%:5%]')\n"
   ]
  },
  {
   "cell_type": "code",
   "execution_count": null,
   "id": "0f52f62b",
   "metadata": {},
   "outputs": [],
   "source": [
    "from torchvision import transforms\n",
    "\n",
    "preprocess = transforms.Compose(\n",
    "    [\n",
    "        transforms.Resize((config.image_size, config.image_size)),\n",
    "        transforms.RandomHorizontalFlip(),\n",
    "        transforms.ToTensor(),\n",
    "        transforms.Normalize([0.5], [0.5]),\n",
    "    ]\n",
    ")"
   ]
  },
  {
   "cell_type": "code",
   "execution_count": null,
   "id": "83d38198",
   "metadata": {},
   "outputs": [],
   "source": [
    "def transform(rows):\n",
    "    images_input = [preprocess(image) for image in rows[\"input\"]]\n",
    "    images_target = [preprocess(image) for image in rows[\"target\"]]\n",
    "    \n",
    "    return {\"input\": images_input,\n",
    "            'target': images_target,\n",
    "            'prompt': rows['prompt']}\n",
    "\n",
    "trains_ds = trains_ds.map(transform, batched=True)\n",
    "vals_ds = vals_ds.map(transform, batched=True)\n",
    "    "
   ]
  },
  {
   "cell_type": "code",
   "execution_count": null,
   "id": "f696b791",
   "metadata": {},
   "outputs": [],
   "source": [
    "import torch\n",
    "train_dataloader = torch.utils.data.DataLoader(trains_ds, batch_size=config.train_batch_size, shuffle=True)\n",
    "val_dataloader = torch.utils.data.DataLoader(vals_ds, batch_size=config.eval_batch_size, shuffle=True)"
   ]
  },
  {
   "cell_type": "markdown",
   "id": "39154780",
   "metadata": {},
   "source": [
    "### Create U-Net Model"
   ]
  },
  {
   "cell_type": "markdown",
   "id": "b43a7328",
   "metadata": {},
   "source": [
    "### Training"
   ]
  },
  {
   "cell_type": "code",
   "execution_count": null,
   "id": "da3afc24",
   "metadata": {},
   "outputs": [],
   "source": [
    "from diffusers.optimization import get_cosine_schedule_with_warmup\n",
    "\n",
    "optimizer = torch.optim.AdamW(model.parameters(), lr=config.learning_rate)\n",
    "lr_scheduler = get_cosine_schedule_with_warmup(\n",
    "    optimizer=optimizer,\n",
    "    num_warmup_steps=config.lr_warmup_steps,\n",
    "    num_training_steps=(len(train_dataloader) * config.num_epochs),\n",
    ")"
   ]
  },
  {
   "cell_type": "code",
   "execution_count": null,
   "id": "e88bde96",
   "metadata": {},
   "outputs": [],
   "source": [
    "def sample(input_images, model, scheduler, train_config, epoch):\n",
    "\n",
    "    xt = torch.randn((input_images.shape[0],\n",
    "                      4,\n",
    "                      train_config.image_size,\n",
    "                      train_config.image_size)).to(device)\n",
    "    for i in tqdm(reversed(range(50))):\n",
    "        # Get prediction of noise\n",
    "        noisy_samples = torch.concat([input_images, xt], dim=1)\n",
    "        noise_pred = model(noisy_samples, torch.as_tensor(i).unsqueeze(0).to(device))[0]\n",
    "        \n",
    "        # Use scheduler to get x0 and xt-1\n",
    "        xt, x0_pred = scheduler.step(noise_pred, torch.as_tensor(i).to(device), xt, return_dict=False)\n",
    "        # Save x0\n",
    "        ims = torch.clamp(xt, -1., 1.).detach().cpu()\n",
    "        ims = (ims + 1) / 2\n",
    "        grid = make_grid(ims)\n",
    "        img = torchvision.transforms.ToPILImage()(grid)\n",
    "        if not os.path.exists(os.path.join(train_config.output_dir, 'samples_epoch_{}'.format(epoch))):\n",
    "            os.mkdir(os.path.join(train_config.output_dir, 'samples_epoch_{}'.format(epoch)))\n",
    "        img.save(os.path.join(train_config.output_dir, 'samples_epoch_{}'.format(epoch), 'x0_{}.png'.format(i)))\n",
    "        img.close()"
   ]
  },
  {
   "cell_type": "markdown",
   "id": "fd663f40",
   "metadata": {},
   "source": [
    "### Training loop"
   ]
  },
  {
   "cell_type": "code",
   "execution_count": null,
   "id": "16ba550e",
   "metadata": {},
   "outputs": [],
   "source": [
    "from accelerate import Accelerator\n",
    "from huggingface_hub import create_repo, upload_folder\n",
    "from tqdm.auto import tqdm\n",
    "from pathlib import Path\n",
    "import os\n",
    "\n",
    "def train_loop(config, model, noise_scheduler, optimizer, train_dataloader, val_dataloader, lr_scheduler, device):\n",
    "    # Initialize accelerator and tensorboard logging\n",
    "    accelerator = Accelerator(\n",
    "        mixed_precision=config.mixed_precision,\n",
    "        gradient_accumulation_steps=config.gradient_accumulation_steps,\n",
    "        log_with=\"tensorboard\",\n",
    "        project_dir=os.path.join(config.output_dir, \"logs\")\n",
    "    )\n",
    "    if accelerator.is_main_process:\n",
    "        if config.output_dir is not None:\n",
    "            os.makedirs(config.output_dir, exist_ok=True)\n",
    "        if config.push_to_hub:\n",
    "            repo_id = create_repo(\n",
    "                repo_id=config.hub_model_id or Path(config.output_dir).name, exist_ok=True\n",
    "            ).repo_id\n",
    "        accelerator.init_trackers(\"train_example\")\n",
    "\n",
    "    # Prepare everything\n",
    "    # There is no specific order to remember, you just need to unpack the\n",
    "    # objects in the same order you gave them to the prepare method.\n",
    "    model, optimizer, train_dataloader, lr_scheduler = accelerator.prepare(\n",
    "        model, optimizer, train_dataloader, lr_scheduler\n",
    "    )\n",
    "\n",
    "    global_step = 0\n",
    "\n",
    "    # Now you train the model\n",
    "    for epoch in range(config.num_epochs):\n",
    "        progress_bar = tqdm(total=len(train_dataloader), disable=not accelerator.is_local_main_process)\n",
    "        progress_bar.set_description(f\"Epoch {epoch}\")\n",
    "\n",
    "        for step, batch in enumerate(train_dataloader):\n",
    "            if step >=100:\n",
    "                break\n",
    "            input_images = batch[\"input\"].to(device)\n",
    "            target_images = batch[\"input\"].to(device)\n",
    "            \n",
    "            # Sample noise to add to the images\n",
    "            noise = torch.randn(target_images.shape, device=target_images.device)\n",
    "            bs = target_images.shape[0]\n",
    "\n",
    "            # Sample a random timestep for each image\n",
    "            timesteps = torch.randint(\n",
    "                0, noise_scheduler.config.num_train_timesteps, (bs,), device=target_images.device,\n",
    "                dtype=torch.int64\n",
    "            )\n",
    "\n",
    "            # Add noise to the clean images according to the noise magnitude at each timestep\n",
    "            # (this is the forward diffusion process)\n",
    "            noisy_targets = noise_scheduler.add_noise(target_images, noise, timesteps)\n",
    "\n",
    "            with accelerator.accumulate(model):\n",
    "                # Predict the noise residual\n",
    "                noisy_samples = torch.concat([input_images, noisy_targets], dim=1)\n",
    "                noise_pred = model(noisy_samples, timesteps, return_dict=False)[0]\n",
    "                loss = F.mse_loss(noise_pred, noise)\n",
    "                accelerator.backward(loss)\n",
    "\n",
    "                if accelerator.sync_gradients:\n",
    "                    accelerator.clip_grad_norm_(model.parameters(), 1.0)\n",
    "                optimizer.step()\n",
    "                lr_scheduler.step()\n",
    "                optimizer.zero_grad()\n",
    "\n",
    "            progress_bar.update(1)\n",
    "            logs = {\"loss\": loss.detach().item(), \"lr\": lr_scheduler.get_last_lr()[0], \"step\": global_step}\n",
    "            progress_bar.set_postfix(**logs)\n",
    "            accelerator.log(logs, step=global_step)\n",
    "            global_step += 1\n",
    "\n",
    "        # After each epoch you optionally sample some demo images with evaluate() and save the model\n",
    "        if accelerator.is_main_process:\n",
    "\n",
    "            if (epoch + 1) % config.save_image_epochs == 0 or epoch == config.num_epochs - 1:\n",
    "                for batch in val_dataloader:\n",
    "                    with torch.no_grad():\n",
    "                        sample(input_images=batch['input'].to(device),\n",
    "                                model=accelerator.unwrap_model(model),\n",
    "                                scheduler=noise_scheduler,\n",
    "                                train_config=config,\n",
    "                                epoch=epoch)\n",
    "                    break\n",
    "            \n",
    "            # if (epoch + 1) % config.save_model_epochs == 0 or epoch == config.num_epochs - 1:\n",
    "            #     if config.push_to_hub:\n",
    "            #         upload_folder(\n",
    "            #             repo_id=repo_id,\n",
    "            #             folder_path=config.output_dir,\n",
    "            #             commit_message=f\"Epoch {epoch}\",\n",
    "            #             ignore_patterns=[\"step_*\", \"epoch_*\"],\n",
    "            #         )\n",
    "            #     else:\n",
    "            #         pipeline.save_pretrained(config.output_dir)"
   ]
  },
  {
   "cell_type": "code",
   "execution_count": null,
   "id": "1df9ec10",
   "metadata": {},
   "outputs": [],
   "source": [
    "from accelerate import notebook_launcher\n",
    "\n",
    "\n",
    "args = (config, model, noise_scheduler, optimizer, train_dataloader, val_dataloader, lr_scheduler,device)\n",
    "\n",
    "notebook_launcher(train_loop, args, num_processes=1)"
   ]
  },
  {
   "cell_type": "code",
   "execution_count": null,
   "id": "0c84039c",
   "metadata": {},
   "outputs": [],
   "source": [
    "from models import DDPMNextTokenV1\n",
    "from data_loaders import ModularCharatersDataLoader\n",
    "dataset_name = \"QLeca/modular_characters\"\n",
    "train_split = f\"train[0%:1%]\"\n",
    "pipeline = DDPMNextTokenV1.DDPMNextTokenV1Pipeline()\n",
    "train_dataloader = ModularCharatersDataLoader.get_modular_char_dataloader(dataset_name=dataset_name,\n",
    "                                                                          split=train_split,\n",
    "                                                                          image_size=pipeline.train_config.image_size,\n",
    "                                                                          batch_size=pipeline.train_config.train_batch_size,\n",
    "                                                                          shuffle=True)"
   ]
  },
  {
   "cell_type": "code",
   "execution_count": null,
   "id": "c3d07e2b",
   "metadata": {},
   "outputs": [
    {
     "ename": "SyntaxError",
     "evalue": "invalid syntax (4183339886.py, line 33)",
     "output_type": "error",
     "traceback": [
      "\u001b[0;36m  Cell \u001b[0;32mIn[3], line 33\u001b[0;36m\u001b[0m\n\u001b[0;31m    images = pipeline(batch['input'], batch['prompt']):\u001b[0m\n\u001b[0m                                                      ^\u001b[0m\n\u001b[0;31mSyntaxError\u001b[0m\u001b[0;31m:\u001b[0m invalid syntax\n"
     ]
    }
   ],
   "source": [
    "from models import DDPMNextTokenV1\n",
    "from data_loaders import ModularCharatersDataLoader\n",
    "from PIL import Image\n",
    "dataset_name = \"QLeca/modular_characters\"\n",
    "val_split = f\"train[0%:1%]\"\n",
    "train_split = f\"train[1%:5%]\"\n",
    "\n",
    "\n",
    "from safetensors import safe_open\n",
    "\n",
    "# tensors = {}\n",
    "# with safe_open(\"/Data/quentin.leca/training_output/diffusion_pytorch_model.safetensors\", framework=\"pt\", device=0) as f:\n",
    "#     for k in f.keys():\n",
    "#         tensors[k] = f.get_tensor(k)\n",
    "# print(tensors)\n",
    "\n",
    "# train_dataloader = ModularCharatersDataLoader.get_modular_char_dataloader(dataset_name=dataset_name,\n",
    "#                                                                           split=train_split,\n",
    "#                                                                           image_size=pipeline.train_config.image_size,\n",
    "#                                                                           batch_size=pipeline.train_config.train_batch_size,\n",
    "#                                                                           shuffle=True)\n",
    "pipeline = DDPMNextTokenV1.DDPMNextTokenV1Pipeline()\n",
    "pipeline.load_config('/Data/quentin.leca/training_output/')\n",
    "val_dataloader = ModularCharatersDataLoader.get_modular_char_dataloader(dataset_name=dataset_name,\n",
    "                                                                          split=val_split,\n",
    "                                                                          image_size=pipeline.train_config.image_size,\n",
    "                                                                          batch_size=pipeline.train_config.eval_batch_size,\n",
    "                                                                          shuffle=True)\n",
    "\n",
    "# pipeline.train(train_dataloader, val_dataloader)\n",
    "\n",
    "for batch in val_dataloader:\n",
    "    images = pipeline(batch['input'], batch['prompt'])\n",
    "    break"
   ]
  },
  {
   "cell_type": "code",
   "execution_count": null,
   "id": "a9290b48",
   "metadata": {},
   "outputs": [],
   "source": [
    "images"
   ]
  },
  {
   "cell_type": "code",
   "execution_count": null,
   "id": "b59a2ec1",
   "metadata": {},
   "outputs": [],
   "source": [
    "import torchvision\n",
    "image = images[0]\n",
    "img = torchvision.transforms.ToPILImage()(image)"
   ]
  },
  {
   "cell_type": "code",
   "execution_count": null,
   "id": "439eaeb2",
   "metadata": {},
   "outputs": [],
   "source": [
    "img"
   ]
  }
 ],
 "metadata": {
  "kernelspec": {
   "display_name": "base",
   "language": "python",
   "name": "python3"
  },
  "language_info": {
   "codemirror_mode": {
    "name": "ipython",
    "version": 3
   },
   "file_extension": ".py",
   "mimetype": "text/x-python",
   "name": "python",
   "nbconvert_exporter": "python",
   "pygments_lexer": "ipython3",
   "version": "3.11.3"
  }
 },
 "nbformat": 4,
 "nbformat_minor": 5
}
