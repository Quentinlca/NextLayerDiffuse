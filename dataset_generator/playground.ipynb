{
 "cells": [
  {
   "cell_type": "code",
   "execution_count": 25,
   "id": "e16e9e6f",
   "metadata": {},
   "outputs": [],
   "source": [
    "import json\n",
    "import pandas as pd\n",
    "dataset_path = 'generated_datasets/modular_characters_small/dataset.csv'\n",
    "\n",
    "dataset = pd.read_csv(dataset_path)"
   ]
  },
  {
   "cell_type": "code",
   "execution_count": 26,
   "id": "8ca00ff6",
   "metadata": {},
   "outputs": [],
   "source": [
    "from PIL import Image\n",
    "new_inputs = []\n",
    "new_targets = []\n",
    "new_prompts = []\n",
    "added_targets = []\n",
    "for i, row in dataset.iterrows():\n",
    "    target_image = Image.open(row['Target'])\n",
    "    if target_image in added_targets:\n",
    "        # print(f\"Skipping {row['Target']} as it has already been added.\")\n",
    "        continue\n",
    "    else:\n",
    "        added_targets.append(target_image)\n",
    "        new_inputs.append(row['Input'])\n",
    "        new_targets.append(row['Target'])\n",
    "        new_prompts.append(row['Prompt'])\n",
    "    \n",
    "    "
   ]
  },
  {
   "cell_type": "code",
   "execution_count": 27,
   "id": "6444bba4",
   "metadata": {},
   "outputs": [
    {
     "name": "stdout",
     "output_type": "stream",
     "text": [
      "3808 3808 3808\n"
     ]
    }
   ],
   "source": [
    "print(len(new_inputs), len(new_targets), len(new_prompts))\n",
    "new_dataset = pd.DataFrame({\n",
    "    'Input': new_inputs,\n",
    "    'Target': new_targets,\n",
    "    'Prompt': new_prompts\n",
    "})\n",
    "new_dataset.to_csv('generated_datasets/modular_characters_small/dataset_unique.csv', index=False)"
   ]
  },
  {
   "cell_type": "code",
   "execution_count": 33,
   "id": "c6df5ddf",
   "metadata": {},
   "outputs": [],
   "source": [
    "# Shuffle the dataset\n",
    "shuffled_dataset = new_dataset.sample(frac=1).reset_index(drop=True)\n",
    "shuffled_dataset.to_csv('generated_datasets/modular_characters_small/dataset_unique.csv', index=False)"
   ]
  },
  {
   "cell_type": "code",
   "execution_count": 35,
   "id": "8d753bef",
   "metadata": {},
   "outputs": [
    {
     "name": "stdout",
     "output_type": "stream",
     "text": [
      "Input: generated_datasets/modular_characters_small/data/3/char_0001072-layer_17.png, Target: generated_datasets/modular_characters_small/data/3/char_0001072-layer_18.png, Prompt: Red Man1 Hair\n",
      "Input: generated_datasets/modular_characters_small/data/4/char_0001159-layer_15.png, Target: generated_datasets/modular_characters_small/data/4/char_0001159-layer_16.png, Prompt: Blue11 Pants\n",
      "Input: generated_datasets/modular_characters_small/data/0/char_0000145-layer_17.png, Target: generated_datasets/modular_characters_small/data/0/char_0000145-layer_18.png, Prompt: Grey Man1 Hair\n",
      "Input: generated_datasets/modular_characters_small/data/3/char_0000980-layer_17.png, Target: generated_datasets/modular_characters_small/data/3/char_0000980-layer_18.png, Prompt: Brown2 Man1 Hair\n",
      "Input: generated_datasets/modular_characters_small/data/3/char_0000874-layer_17.png, Target: generated_datasets/modular_characters_small/data/3/char_0000874-layer_18.png, Prompt: Black Man1 Hair\n",
      "Input: generated_datasets/modular_characters_small/data/0/char_0000047-layer_17.png, Target: generated_datasets/modular_characters_small/data/0/char_0000047-layer_18.png, Prompt: Blonde Man1 Hair\n",
      "Input: generated_datasets/modular_characters_small/data/1/char_0000487-layer_17.png, Target: generated_datasets/modular_characters_small/data/1/char_0000487-layer_18.png, Prompt: Red Man1 Hair\n"
     ]
    }
   ],
   "source": [
    "for i, row in shuffled_dataset.iterrows():\n",
    "    print(f\"Input: {row['Input']}, Target: {row['Target']}, Prompt: {row['Prompt']}\")\n",
    "    if i > 5:\n",
    "        break"
   ]
  },
  {
   "cell_type": "code",
   "execution_count": 28,
   "id": "c0f2c25f",
   "metadata": {},
   "outputs": [],
   "source": [
    "vocab = list(dict.fromkeys(new_prompts))"
   ]
  },
  {
   "cell_type": "code",
   "execution_count": 31,
   "id": "ef45f54d",
   "metadata": {},
   "outputs": [],
   "source": [
    "from src.DatasetGenerators import NextTokenGenerator"
   ]
  },
  {
   "cell_type": "code",
   "execution_count": 36,
   "id": "1abad03f",
   "metadata": {},
   "outputs": [
    {
     "data": {
      "application/vnd.jupyter.widget-view+json": {
       "model_id": "f4eead30d1ad402088b3b45a9dda084d",
       "version_major": 2,
       "version_minor": 0
      },
      "text/plain": [
       "Generating train split: 0 examples [00:00, ? examples/s]"
      ]
     },
     "metadata": {},
     "output_type": "display_data"
    },
    {
     "data": {
      "application/vnd.jupyter.widget-view+json": {
       "model_id": "e223c7466a58443fb41c8504281687cd",
       "version_major": 2,
       "version_minor": 0
      },
      "text/plain": [
       "Uploading the dataset shards:   0%|          | 0/1 [00:00<?, ?it/s]"
      ]
     },
     "metadata": {},
     "output_type": "display_data"
    },
    {
     "data": {
      "application/vnd.jupyter.widget-view+json": {
       "model_id": "066e4c932c4443eab41704cf33228e83",
       "version_major": 2,
       "version_minor": 0
      },
      "text/plain": [
       "Map:   0%|          | 0/3808 [00:00<?, ? examples/s]"
      ]
     },
     "metadata": {},
     "output_type": "display_data"
    },
    {
     "data": {
      "application/vnd.jupyter.widget-view+json": {
       "model_id": "ae4d3a03dd2f4ce09052fedeb2c5315e",
       "version_major": 2,
       "version_minor": 0
      },
      "text/plain": [
       "Creating parquet from Arrow format:   0%|          | 0/39 [00:00<?, ?ba/s]"
      ]
     },
     "metadata": {},
     "output_type": "display_data"
    },
    {
     "data": {
      "application/vnd.jupyter.widget-view+json": {
       "model_id": "20c562489d44458686bddf8e77e60789",
       "version_major": 2,
       "version_minor": 0
      },
      "text/plain": [
       "README.md:   0%|          | 0.00/350 [00:00<?, ?B/s]"
      ]
     },
     "metadata": {},
     "output_type": "display_data"
    },
    {
     "name": "stderr",
     "output_type": "stream",
     "text": [
      "d:\\Programmes\\miniconda3\\lib\\site-packages\\huggingface_hub\\file_download.py:143: UserWarning: `huggingface_hub` cache-system uses symlinks by default to efficiently store duplicated files but your machine does not support them in C:\\Users\\quent\\.cache\\huggingface\\hub\\datasets--QLeca--modular_characters_small. Caching files will still work but in a degraded version that might require more space on your disk. This warning can be disabled by setting the `HF_HUB_DISABLE_SYMLINKS_WARNING` environment variable. For more details, see https://huggingface.co/docs/huggingface_hub/how-to-cache#limitations.\n",
      "To support symlinks on Windows, you either need to activate Developer Mode or to run Python as an administrator. In order to activate developer mode, see this article: https://docs.microsoft.com/en-us/windows/apps/get-started/enable-your-device-for-development\n",
      "  warnings.warn(message)\n"
     ]
    }
   ],
   "source": [
    "NextTokenGenerator.upload_dataset(\n",
    "    dataset_path='generated_datasets/modular_characters_small/dataset_unique.csv',\n",
    "    repo_id='modular_characters_small'\n",
    ")"
   ]
  }
 ],
 "metadata": {
  "kernelspec": {
   "display_name": "base",
   "language": "python",
   "name": "python3"
  },
  "language_info": {
   "codemirror_mode": {
    "name": "ipython",
    "version": 3
   },
   "file_extension": ".py",
   "mimetype": "text/x-python",
   "name": "python",
   "nbconvert_exporter": "python",
   "pygments_lexer": "ipython3",
   "version": "3.10.13"
  }
 },
 "nbformat": 4,
 "nbformat_minor": 5
}
