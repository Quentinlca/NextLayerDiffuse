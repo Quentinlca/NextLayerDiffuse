{
 "cells": [
  {
   "cell_type": "code",
   "execution_count": null,
   "id": "e16e9e6f",
   "metadata": {},
   "outputs": [],
   "source": [
    "import json\n",
    "import pandas as pd\n",
    "dataset_path = 'generated_datasets/modular_characters_small/dataset.csv'\n",
    "\n",
    "dataset = pd.read_csv(dataset_path)"
   ]
  },
  {
   "cell_type": "code",
   "execution_count": null,
   "id": "8ca00ff6",
   "metadata": {},
   "outputs": [],
   "source": [
    "from PIL import Image\n",
    "new_inputs = []\n",
    "new_targets = []\n",
    "new_prompts = []\n",
    "added_targets = []\n",
    "for i, row in dataset.iterrows():\n",
    "    target_image = Image.open(row['Target'])\n",
    "    if target_image in added_targets:\n",
    "        # print(f\"Skipping {row['Target']} as it has already been added.\")\n",
    "        continue\n",
    "    else:\n",
    "        added_targets.append(target_image)\n",
    "        new_inputs.append(row['Input'])\n",
    "        new_targets.append(row['Target'])\n",
    "        new_prompts.append(row['Prompt'])\n",
    "    \n",
    "    "
   ]
  },
  {
   "cell_type": "code",
   "execution_count": null,
   "id": "6444bba4",
   "metadata": {},
   "outputs": [],
   "source": [
    "print(len(new_inputs), len(new_targets), len(new_prompts))\n",
    "new_dataset = pd.DataFrame({\n",
    "    'Input': new_inputs,\n",
    "    'Target': new_targets,\n",
    "    'Prompt': new_prompts\n",
    "})\n",
    "new_dataset.to_csv('generated_datasets/modular_characters_small/dataset_unique.csv', index=False)"
   ]
  },
  {
   "cell_type": "code",
   "execution_count": null,
   "id": "c6df5ddf",
   "metadata": {},
   "outputs": [],
   "source": [
    "# Shuffle the dataset\n",
    "shuffled_dataset = new_dataset.sample(frac=1).reset_index(drop=True)\n",
    "shuffled_dataset.to_csv('generated_datasets/modular_characters_small/dataset_unique.csv', index=False)"
   ]
  },
  {
   "cell_type": "code",
   "execution_count": null,
   "id": "8d753bef",
   "metadata": {},
   "outputs": [],
   "source": [
    "for i, row in shuffled_dataset.iterrows():\n",
    "    print(f\"Input: {row['Input']}, Target: {row['Target']}, Prompt: {row['Prompt']}\")\n",
    "    if i > 5:\n",
    "        break"
   ]
  },
  {
   "cell_type": "code",
   "execution_count": null,
   "id": "c0f2c25f",
   "metadata": {},
   "outputs": [],
   "source": [
    "vocab = list(dict.fromkeys(new_prompts))"
   ]
  },
  {
   "cell_type": "code",
   "execution_count": null,
   "id": "ef45f54d",
   "metadata": {},
   "outputs": [],
   "source": [
    "from src.DatasetGenerators import NextTokenGenerator"
   ]
  },
  {
   "cell_type": "code",
   "execution_count": null,
   "id": "1abad03f",
   "metadata": {},
   "outputs": [],
   "source": [
    "NextTokenGenerator.upload_dataset(\n",
    "    dataset_path='generated_datasets/modular_characters_small/dataset_unique.csv',\n",
    "    repo_id='modular_characters_small'\n",
    ")"
   ]
  }
 ],
 "metadata": {
  "kernelspec": {
   "display_name": "base",
   "language": "python",
   "name": "python3"
  },
  "language_info": {
   "codemirror_mode": {
    "name": "ipython",
    "version": 3
   },
   "file_extension": ".py",
   "mimetype": "text/x-python",
   "name": "python",
   "nbconvert_exporter": "python",
   "pygments_lexer": "ipython3",
   "version": "3.10.13"
  }
 },
 "nbformat": 4,
 "nbformat_minor": 5
}
