{
 "cells": [
  {
   "cell_type": "markdown",
   "id": "0aaccfe4",
   "metadata": {},
   "source": [
    "### Imports and constants"
   ]
  },
  {
   "cell_type": "code",
   "execution_count": null,
   "id": "983434d2",
   "metadata": {},
   "outputs": [],
   "source": [
    "import os\n",
    "from PIL import Image\n",
    "import json\n",
    "import numpy as np\n",
    "from pprint import pprint\n",
    "import tqdm\n",
    "\n",
    "output_dir = 'kenney_modular_characters'\n",
    "if not os.path.exists(output_dir):\n",
    "    os.makedirs(output_dir)\n",
    "assets_dir = 'assets/kenney_new'\n",
    "modules_order = [\n",
    "    'Neck',\n",
    "    'Head',\n",
    "    'Arm_L',\n",
    "    'Arm_R',\n",
    "    'Hand_L',\n",
    "    'Hand_R',\n",
    "    'Leg_L',\n",
    "    'Leg_R',\n",
    "    'Shirt_L',\n",
    "    'Shirt_R',\n",
    "    'Shirt',\n",
    "    'Shoes_L',\n",
    "    'Shoes_R',\n",
    "    'Pants_L',\n",
    "    'Pants_R',\n",
    "    'Pants',\n",
    "    'Face',\n",
    "    'Hair'\n",
    "    ]\n"
   ]
  },
  {
   "cell_type": "markdown",
   "id": "a87b1311",
   "metadata": {},
   "source": [
    "### To update all the offsets"
   ]
  },
  {
   "cell_type": "code",
   "execution_count": null,
   "id": "e4208a27",
   "metadata": {},
   "outputs": [],
   "source": [
    "modules_offsets_file = 'assets/kenney_new/modules_offsets.json'\n",
    "middle_x = 0\n",
    "middle_y = 0\n",
    "if os.path.exists(modules_offsets_file):\n",
    "    with open(modules_offsets_file, 'r') as f:\n",
    "        offsets = json.load(f)\n",
    "    f.close()\n",
    "for class_name, offset in offsets.items():\n",
    "    offsets[class_name] = (offset[0]+middle_x, offset[1]+middle_y)\n",
    "#save the offsets to a file\n",
    "with open(modules_offsets_file, 'w') as f:\n",
    "    json.dump(offsets, f, indent=4)\n",
    "f.close()"
   ]
  },
  {
   "cell_type": "markdown",
   "id": "ffa697f7",
   "metadata": {},
   "source": [
    "### Utils functions"
   ]
  },
  {
   "cell_type": "code",
   "execution_count": 2,
   "id": "f5da52cd",
   "metadata": {},
   "outputs": [],
   "source": [
    "def flip_images(images, output_dir):\n",
    "    if not os.path.exists(output_dir):\n",
    "        os.makedirs(output_dir)\n",
    "    for image in images:\n",
    "        output_path = f\"{output_dir}/{os.path.basename(image)}\"\n",
    "        img = Image.open(image)\n",
    "        flipped_img = img.transpose(Image.FLIP_LEFT_RIGHT)\n",
    "        flipped_img.save(output_path)\n",
    "        print(f'Flipped image saved: {image.replace(\".png\", \"_flipped.png\")}')\n",
    "        "
   ]
  },
  {
   "cell_type": "code",
   "execution_count": 95,
   "id": "9b32e2ae",
   "metadata": {},
   "outputs": [],
   "source": [
    "def sort_paths_by_order(paths:list[str], order:list[str]) -> list[str]:\n",
    "    \"\"\"\n",
    "    Sorts the list of paths based on the predefined order.\n",
    "    \"\"\"\n",
    "    order_dict = {name: index for index, name in enumerate(order)}\n",
    "    return sorted(paths, key=lambda path: order_dict.get(path.split('/')[-2], float('inf')))\n"
   ]
  },
  {
   "cell_type": "code",
   "execution_count": null,
   "id": "627f2946",
   "metadata": {},
   "outputs": [],
   "source": [
    "def merge_composents(image_paths: list[str], output_path:str, save=True) -> Image:\n",
    "    offsets = json.load(open('assets/kenney_new/modules_offsets.json', 'r'))\n",
    "    \n",
    "    \n",
    "    image_paths = sort_paths_by_order(image_paths, modules_order)\n",
    "    images = [Image.open(path) for path in image_paths]\n",
    "    # Calculate the width and height of the merged image\n",
    "    total_width = 600\n",
    "    total_height = 600\n",
    "    middle_x = 0\n",
    "    middle_y = 0\n",
    "\n",
    "    # Create a new image with the appropriate size\n",
    "    merged_image = Image.new('RGBA', (total_width, total_height))\n",
    "\n",
    "    # Paste each image into the merged image\n",
    "    for i, img in enumerate(images):\n",
    "        class_name = image_paths[i].split('/')[-2]\n",
    "        special_type = os.path.basename(image_paths[i]).split('.')[0].split('_')[-1]\n",
    "        try:\n",
    "            class_offsets = offsets.get(class_name, {'standard':(0, 0)})\n",
    "            x_offset, y_offset = class_offsets.get(special_type, class_offsets['standard'])\n",
    "        except Exception as e:\n",
    "            print(f\"Error with the offset file (should contain a 'standard' value for each class) : {e}\")\n",
    "            x_offset, y_offset = 0, 0\n",
    "            continue\n",
    "        merged_image.alpha_composite(img, (x_offset + middle_x, y_offset + middle_y))\n",
    "    # Save the merged image\n",
    "    if save:\n",
    "        output_dir = os.path.dirname(os.path.abspath(output_path))\n",
    "        if not os.path.exists(output_dir):\n",
    "            os.makedirs(output_dir)\n",
    "        merged_image.save(output_path)\n",
    "        \n",
    "    return merged_image\n",
    "\n"
   ]
  },
  {
   "cell_type": "code",
   "execution_count": 4,
   "id": "ac512771",
   "metadata": {},
   "outputs": [],
   "source": [
    "def generate_random_character(assets_dir: str, output_path: str, logic=True, save=True) -> Image:\n",
    "    \"\"\"\n",
    "    Generates a random character by merging components from the assets directory.\n",
    "    \"\"\"\n",
    "    image_paths = []\n",
    "    classes = [d for d in os.listdir(assets_dir) if os.path.isdir(os.path.join(assets_dir,d))]\n",
    "\n",
    "    if logic:\n",
    "        head = np.random.choice([f'{assets_dir}/Head/{f}' for f in os.listdir(f'{assets_dir}/Head') if f.endswith('.png')])\n",
    "        tint = os.path.basename(head).split('_')[0]\n",
    "        arm_L = f'{assets_dir}/Arm_L/{tint}_arm.png'\n",
    "        arm_R = f'{assets_dir}/Arm_R/{tint}_arm.png'\n",
    "        neck = f'{assets_dir}/Neck/{tint}_neck.png'\n",
    "        hand_L = f'{assets_dir}/Hand_L/{tint}_hand.png'\n",
    "        hand_R = f'{assets_dir}/Hand_R/{tint}_hand.png'\n",
    "        leg_L = f'{assets_dir}/Leg_L/{tint}_leg.png'\n",
    "        leg_R = f'{assets_dir}/Leg_R/{tint}_leg.png'\n",
    "        \n",
    "        pants_L = np.random.choice([f'{assets_dir}/Pants_L/{f}' for f in os.listdir(f'{assets_dir}/Pants_L') if f.endswith('.png')])\n",
    "        pants_R = f'{assets_dir}/Pants_R/{os.path.basename(pants_L)}'\n",
    "        pants_color = os.path.basename(pants_L).split('_')[0]\n",
    "        pants = np.random.choice([f'{assets_dir}/Pants/{f}' for f in os.listdir(f'{assets_dir}/Pants') if f.endswith('.png') and pants_color in f])\n",
    "        \n",
    "        shirt_L = np.random.choice([f'{assets_dir}/Shirt_L/{f}' for f in os.listdir(f'{assets_dir}/Shirt_L') if f.endswith('.png')])\n",
    "        shirt_R = f'{assets_dir}/Shirt_R/{os.path.basename(shirt_L)}'\n",
    "        shirt_color = os.path.basename(shirt_L).split('_')[0][:-3]\n",
    "        shirt = np.random.choice([f'{assets_dir}/Shirt/{f}' for f in os.listdir(f'{assets_dir}/Shirt') if f.endswith('.png') and shirt_color in f])\n",
    "        \n",
    "        shoe_L = np.random.choice([f'{assets_dir}/Shoes_L/{f}' for f in os.listdir(f'{assets_dir}/Shoes_L') if f.endswith('.png')])\n",
    "        shoe_R = f'{assets_dir}/Shoes_R/{os.path.basename(shoe_L)}'\n",
    "        \n",
    "        hair = np.random.choice([f'{assets_dir}/Hair/{f}' for f in os.listdir(f'{assets_dir}/Hair') if f.endswith('.png')])\n",
    "        face = np.random.choice([f'{assets_dir}/Face/{f}' for f in os.listdir(f'{assets_dir}/Face') if f.endswith('.png')])\n",
    "        image_paths = [head, arm_L, arm_R, neck, leg_L, leg_R, hand_L, hand_R, pants, pants_L, pants_R, shirt, shirt_L, shirt_R, shoe_L, shoe_R, hair, face]\n",
    "    else: \n",
    "        for class_name in classes:\n",
    "            class_dir = f'{assets_dir}/{class_name}'\n",
    "            if os.path.isdir(class_dir):\n",
    "                images = [f'{class_dir}/{f}' for f in os.listdir(class_dir) if f.endswith('.png')]\n",
    "                if images:\n",
    "                    image_paths.append(np.random.choice(images))  # Take the first image from each class directory\n",
    "    assert len(image_paths) == len(classes)                \n",
    "    merged_image = merge_composents(image_paths, output_path, save=save)\n",
    "    return merged_image, image_paths"
   ]
  },
  {
   "cell_type": "code",
   "execution_count": 99,
   "id": "ed3b7d0c",
   "metadata": {},
   "outputs": [],
   "source": [
    "def generate_dataset(assets_dir:str, output_path):\n",
    "    characters = []\n",
    "    \n",
    "    heads = [f'{assets_dir}/Head/{f}' for f in os.listdir(f'{assets_dir}/Head') if f.endswith('.png')]\n",
    "    hairs = [f'{assets_dir}/Hair/{f}' for f in os.listdir(f'{assets_dir}/Hair') if f.endswith('.png')][0:15]\n",
    "    faces = [f'{assets_dir}/Face/{f}' for f in os.listdir(f'{assets_dir}/Face') if f.endswith('.png')][0:1]\n",
    "    shoes = [f'{assets_dir}/Shoes_L/{f}' for f in os.listdir(f'{assets_dir}/Shoes_L') if f.endswith('.png')][0:1]\n",
    "    pants_L = [f'{assets_dir}/Pants_L/{f}' for f in os.listdir(f'{assets_dir}/Pants_L') if f.endswith('.png')]\n",
    "    shirts_L = [f'{assets_dir}/Shirt_L/{f}' for f in os.listdir(f'{assets_dir}/Shirt_L') if f.endswith('.png')]\n",
    "    \n",
    "    for head in tqdm.tqdm(heads, desc='Heads :'):\n",
    "        tint = os.path.basename(head).split('_')[0]\n",
    "        arm_L = f'{assets_dir}/Arm_L/{tint}_arm.png'\n",
    "        arm_R = f'{assets_dir}/Arm_R/{tint}_arm.png'\n",
    "        neck = f'{assets_dir}/Neck/{tint}_neck.png'\n",
    "        hand_L = f'{assets_dir}/Hand_L/{tint}_hand.png'\n",
    "        hand_R = f'{assets_dir}/Hand_R/{tint}_hand.png'\n",
    "        leg_L = f'{assets_dir}/Leg_L/{tint}_leg.png'\n",
    "        leg_R = f'{assets_dir}/Leg_R/{tint}_leg.png'\n",
    "        \n",
    "        for hair in tqdm.tqdm(hairs, desc='Hairs :'):\n",
    "            for face in faces:\n",
    "                for shoe_L in shoes:\n",
    "                    shoe_R = f'{assets_dir}/Shoes_R/{os.path.basename(shoe_L)}'\n",
    "                    \n",
    "                    for pant_L in pants_L:\n",
    "                        pant_R = f'{assets_dir}/Pants_R/{os.path.basename(pant_L)}'\n",
    "                        pants_color = os.path.basename(pant_L).split('_')[0]\n",
    "                        pants = [f'{assets_dir}/Pants/{f}' for f in os.listdir(f'{assets_dir}/Pants') if f.endswith('.png') and pants_color in f]\n",
    "                        for pant in pants:\n",
    "                            for shirt_L in shirts_L:\n",
    "                                shirt_R = f'{assets_dir}/Shirt_R/{os.path.basename(shirt_L)}'\n",
    "                                shirt_color = os.path.basename(shirt_L).split('_')[0][:-3]\n",
    "                                shirts = [f'{assets_dir}/Shirt/{f}' for f in os.listdir(f'{assets_dir}/Shirt') if f.endswith('.png') and shirt_color in f][0:1]\n",
    "                                for shirt in shirts:\n",
    "                                    image_paths = [head, arm_L, arm_R, neck, leg_L, leg_R, hand_L, hand_R, pant, pant_L, pant_R, shirt, shirt_L, shirt_R, shoe_L, shoe_R, hair, face]\n",
    "                                    # print(len(heads)*len(hairs)*len(shoes)*len(pants_L)*len(pants)*len(shirts_L)*len(shirts)*len(faces))\n",
    "                                    characters.append(image_paths)\n",
    "                                     \n",
    "    with open(output_path,mode='w') as f:\n",
    "        json.dump(characters,f, indent=4)\n",
    "        "
   ]
  },
  {
   "cell_type": "markdown",
   "id": "f0eb79bb",
   "metadata": {},
   "source": [
    "### Main cell"
   ]
  },
  {
   "cell_type": "code",
   "execution_count": 100,
   "id": "76ab000c",
   "metadata": {},
   "outputs": [
    {
     "name": "stderr",
     "output_type": "stream",
     "text": [
      "Hairs :: 100%|██████████| 15/15 [00:08<00:00,  1.70it/s]\n",
      "Hairs :: 100%|██████████| 15/15 [00:08<00:00,  1.71it/s]\n",
      "Hairs :: 100%|██████████| 15/15 [00:08<00:00,  1.73it/s]\n",
      "Hairs :: 100%|██████████| 15/15 [00:08<00:00,  1.73it/s]\n",
      "Hairs :: 100%|██████████| 15/15 [00:08<00:00,  1.77it/s]\n",
      "Hairs :: 100%|██████████| 15/15 [00:08<00:00,  1.67it/s]\n",
      "Hairs :: 100%|██████████| 15/15 [00:08<00:00,  1.72it/s]\n",
      "Hairs :: 100%|██████████| 15/15 [00:08<00:00,  1.69it/s]\n",
      "Heads :: 100%|██████████| 8/8 [01:09<00:00,  8.74s/it]\n"
     ]
    }
   ],
   "source": [
    "dataset_path = f'{assets_dir}/Dataset.json'\n",
    "generate_dataset(assets_dir=assets_dir,output_path=dataset_path)"
   ]
  },
  {
   "cell_type": "code",
   "execution_count": 101,
   "id": "4ade8a79",
   "metadata": {},
   "outputs": [
    {
     "name": "stdout",
     "output_type": "stream",
     "text": [
      "Loaded dataset with 414720 charaters of 18 modules\n"
     ]
    }
   ],
   "source": [
    "dataset = json.load(open(f'{assets_dir}/Dataset.json',mode='r'))\n",
    "print(f'Loaded dataset with {len(dataset)} charaters of {len(dataset[0])} modules')"
   ]
  },
  {
   "cell_type": "code",
   "execution_count": 141,
   "id": "258edb49",
   "metadata": {},
   "outputs": [
    {
     "data": {
      "image/png": "[encoded data removed]",
      "text/plain": [
       "<PIL.Image.Image image mode=RGBA size=600x600>"
      ]
     },
     "metadata": {},
     "output_type": "display_data"
    },
    {
     "name": "stdout",
     "output_type": "stream",
     "text": [
      "['assets/kenney_new/Head/tint5_head.png',\n",
      " 'assets/kenney_new/Arm_L/tint5_arm.png',\n",
      " 'assets/kenney_new/Arm_R/tint5_arm.png',\n",
      " 'assets/kenney_new/Neck/tint5_neck.png',\n",
      " 'assets/kenney_new/Leg_L/tint5_leg.png',\n",
      " 'assets/kenney_new/Leg_R/tint5_leg.png',\n",
      " 'assets/kenney_new/Hand_L/tint5_hand.png',\n",
      " 'assets/kenney_new/Hand_R/tint5_hand.png',\n",
      " 'assets/kenney_new/Pants/pantsLightBlue4.png',\n",
      " 'assets/kenney_new/Pants_L/pantsLightBlue_short.png',\n",
      " 'assets/kenney_new/Pants_R/pantsLightBlue_short.png',\n",
      " 'assets/kenney_new/Shirt/blueShirt_1.png',\n",
      " 'assets/kenney_new/Shirt_L/blueArm_long.png',\n",
      " 'assets/kenney_new/Shirt_R/blueArm_long.png',\n",
      " 'assets/kenney_new/Shoes_L/blackShoe1.png',\n",
      " 'assets/kenney_new/Shoes_R/blackShoe1.png',\n",
      " 'assets/kenney_new/Hair/black_Man8.png',\n",
      " 'assets/kenney_new/Face/face_1.png']\n"
     ]
    }
   ],
   "source": [
    "character = dataset[np.random.randint(len(dataset))]\n",
    "output_path = 'merged_image.png'\n",
    "image = merge_composents(image_paths=character, output_path=output_path,save=False)\n",
    "display(image)\n",
    "pprint(character)"
   ]
  }
 ],
 "metadata": {
  "kernelspec": {
   "display_name": "base",
   "language": "python",
   "name": "python3"
  },
  "language_info": {
   "codemirror_mode": {
    "name": "ipython",
    "version": 3
   },
   "file_extension": ".py",
   "mimetype": "text/x-python",
   "name": "python",
   "nbconvert_exporter": "python",
   "pygments_lexer": "ipython3",
   "version": "3.10.13"
  }
 },
 "nbformat": 4,
 "nbformat_minor": 5
}
